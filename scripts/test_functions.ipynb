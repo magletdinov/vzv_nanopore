{
 "cells": [
  {
   "cell_type": "code",
   "execution_count": 4,
   "id": "66719ed8-d913-41e1-90a4-eebf7331dc79",
   "metadata": {
    "tags": []
   },
   "outputs": [],
   "source": [
    "from pathlib import Path\n",
    "import pandas as pd\n",
    "import numpy as np\n",
    "from scipy.stats import mode\n",
    "import editdistance\n",
    "from Bio.Seq import Seq\n",
    "from Bio import SeqIO\n",
    "from Bio.SeqRecord import SeqRecord\n",
    "from joblib import Parallel, delayed\n",
    "import pybedtools\n",
    "\n",
    "import modules"
   ]
  },
  {
   "cell_type": "code",
   "execution_count": 2,
   "id": "8e710728-b192-40fa-b55b-34c668e4c0b4",
   "metadata": {
    "tags": []
   },
   "outputs": [],
   "source": [
    "ROOT = Path().cwd()\n",
    "PREPROCESSING = Path(\"../preprocessing\")\n",
    "ASSEMBLING = Path(\"../reference_genomes\")\n",
    "DATA = Path(\"../data\")\n",
    "CLADE_FASTA = DATA / \"multifasta_for_clades\"\n",
    "ALIGNMENTS = DATA / \"alignments\"\n",
    "CONSENSUSES = DATA / \"consensuses\""
   ]
  },
  {
   "cell_type": "code",
   "execution_count": 3,
   "id": "890d3a3b-6152-4e19-ada5-eb16d193d9b2",
   "metadata": {
    "tags": []
   },
   "outputs": [],
   "source": [
    "def alignment_to_np(to_align):\n",
    "    align_np = [np.frombuffer(seq_record.seq.encode('utf-8'), dtype=np.int8) for seq_record in SeqIO.parse(to_align, \"fasta\")]\n",
    "    align_np = np.stack(align_np)\n",
    "    return align_np"
   ]
  },
  {
   "cell_type": "code",
   "execution_count": 4,
   "id": "d4a8089b-c9c1-4fd7-8db8-a22e41944dd6",
   "metadata": {
    "tags": []
   },
   "outputs": [],
   "source": [
    "def delete_insertions(align_np):\n",
    "    mask = np.isin(align_np[0], np.frombuffer(\"-\".encode('utf-8'), dtype=np.int8))\n",
    "    return align_np[:, ~mask]"
   ]
  },
  {
   "cell_type": "code",
   "execution_count": 5,
   "id": "c19220cb-7733-4b36-bf08-9327b560d270",
   "metadata": {
    "tags": []
   },
   "outputs": [],
   "source": [
    "def delete_insertions(align_np):\n",
    "    mask = np.isin(align_np[0], np.frombuffer(\"-\".encode('utf-8'), dtype=np.int8))\n",
    "    return align_np[:, ~mask]"
   ]
  },
  {
   "cell_type": "code",
   "execution_count": 6,
   "id": "ab0c332f-4cdc-44e3-94c6-e9ff68a7af78",
   "metadata": {
    "tags": []
   },
   "outputs": [],
   "source": [
    "def to_consensus(align_np):\n",
    "    consensus_np = mode(align_np[1:], axis=0, keepdims=False)\n",
    "    return consensus_np"
   ]
  },
  {
   "cell_type": "code",
   "execution_count": 7,
   "id": "f38242da-e339-48db-ace7-9b758f461a1c",
   "metadata": {
    "tags": []
   },
   "outputs": [],
   "source": [
    "def consensus_to_seq(consensus_np):\n",
    "    #consensus = Seq(consensus_np.mode.tobytes().decode(\"utf-8\"))\n",
    "    consensus = Seq(consensus_np.tobytes().decode(\"utf-8\"))\n",
    "    return consensus"
   ]
  },
  {
   "cell_type": "code",
   "execution_count": 25,
   "id": "300534d1-6c14-4882-8c46-3919ce615a08",
   "metadata": {
    "tags": []
   },
   "outputs": [],
   "source": [
    "def are_all_rows_unique(array):\n",
    "    unique_rows = np.unique(array, axis=0)\n",
    "    return unique_rows.shape[0] == array.shape[0]"
   ]
  },
  {
   "cell_type": "code",
   "execution_count": 26,
   "id": "df21d0dd-88a1-41f1-b8d3-2bd44cedcb31",
   "metadata": {
    "tags": []
   },
   "outputs": [],
   "source": [
    "def create_distance_matrix(array):\n",
    "    # Создание массива для хранения расстояний между строками\n",
    "    num_rows, num_columns = array.shape\n",
    "    distances = np.zeros((num_rows, num_rows), dtype=\"int8\")\n",
    "\n",
    "    # Вычисление расстояний между строками\n",
    "    for i in range(num_rows):\n",
    "        for j in range(i + 1, num_rows):\n",
    "            distances[i, j] = editdistance.eval(array[i], array[j])\n",
    "            distances[j, i] = distances[i, j]  # расстояние Левенштейна симметрично\n",
    "    return distances"
   ]
  },
  {
   "cell_type": "code",
   "execution_count": 57,
   "id": "58f3f28e-6c90-4f37-944d-9ba67a06e1ae",
   "metadata": {
    "tags": []
   },
   "outputs": [],
   "source": [
    "def check_region(array): \n",
    "    number_of_unique_rows = np.unique(array, axis=0, return_counts=True)[1].shape[0]\n",
    "    return number_of_unique_rows"
   ]
  },
  {
   "cell_type": "code",
   "execution_count": null,
   "id": "fa3a64cb-01af-465a-be79-cad1dbf39616",
   "metadata": {},
   "outputs": [],
   "source": []
  },
  {
   "cell_type": "code",
   "execution_count": 59,
   "id": "d1b05102-5b7d-4cff-a639-cdfa6c944de4",
   "metadata": {
    "tags": []
   },
   "outputs": [],
   "source": [
    "to_align = Path(\"../data/alignments/NC_001348.1/clade_1-merge_align.fasta\")\n",
    "a = alignment_to_np(to_align)\n",
    "a_copy = a.copy()\n",
    "b = delete_insertions(a)\n",
    "c = to_consensus(b).mode\n",
    "d = consensus_to_seq(c)"
   ]
  },
  {
   "cell_type": "code",
   "execution_count": 60,
   "id": "49f80c6b-ffb1-4e02-b1d3-d373043977ce",
   "metadata": {
    "tags": []
   },
   "outputs": [
    {
     "data": {
      "text/plain": [
       "array([[ 97, 103, 103, ...,  97, 103, 103],\n",
       "       [103, 103,  99, ..., 103, 103, 103],\n",
       "       [103, 103,  99, ..., 103,  45,  45],\n",
       "       ...,\n",
       "       [ 97, 103, 103, ..., 103, 103, 103],\n",
       "       [103, 103,  99, ..., 103, 103, 103],\n",
       "       [103, 103,  99, ..., 103, 103, 103]], dtype=int8)"
      ]
     },
     "execution_count": 60,
     "metadata": {},
     "output_type": "execute_result"
    }
   ],
   "source": [
    "a_copy"
   ]
  },
  {
   "cell_type": "code",
   "execution_count": 61,
   "id": "5bb7d336-2bf8-4f82-85b8-88b9364ddff6",
   "metadata": {
    "tags": []
   },
   "outputs": [
    {
     "data": {
      "text/plain": [
       "array([False, False, False, ..., False, False, False])"
      ]
     },
     "execution_count": 61,
     "metadata": {},
     "output_type": "execute_result"
    }
   ],
   "source": [
    "np.isin(a_copy[0], np.frombuffer(\"-\".encode('utf-8'), dtype=np.int8))"
   ]
  },
  {
   "cell_type": "code",
   "execution_count": null,
   "id": "cbdd5277-07cb-4e7c-a703-1fe6c3fcf3b2",
   "metadata": {},
   "outputs": [],
   "source": []
  },
  {
   "cell_type": "code",
   "execution_count": 62,
   "id": "998816f8-329d-4a52-abe5-2a2f912adba4",
   "metadata": {
    "tags": []
   },
   "outputs": [],
   "source": [
    "consensuses_by_ref = {}\n",
    "for to_ref in ASSEMBLING.glob(\"*.fasta\"):\n",
    "    consensuses = np.stack([consensus_to_seq(np.load(to_consensus)) for to_consensus in sorted(CONSENSUSES.joinpath(to_ref.stem).glob(\"*consensus.npy\"))])\n",
    "    consensuses_by_ref[to_ref.stem] = consensuses"
   ]
  },
  {
   "cell_type": "code",
   "execution_count": 63,
   "id": "07d44cdd-12c7-41b0-9f0d-976721bd98e8",
   "metadata": {
    "tags": []
   },
   "outputs": [],
   "source": [
    "primary_array = consensuses_by_ref['NC_001348.1']"
   ]
  },
  {
   "cell_type": "code",
   "execution_count": 67,
   "id": "4b32aede-1c89-48c3-af61-feaa3b8350ce",
   "metadata": {
    "tags": []
   },
   "outputs": [
    {
     "data": {
      "text/plain": [
       "[(124884,),\n",
       " (124884,),\n",
       " (124884,),\n",
       " (124884,),\n",
       " (124884,),\n",
       " (124884,),\n",
       " (124884,),\n",
       " (124884,)]"
      ]
     },
     "execution_count": 67,
     "metadata": {},
     "output_type": "execute_result"
    }
   ],
   "source": [
    "[i.shape for i in primary_array]"
   ]
  },
  {
   "cell_type": "code",
   "execution_count": 64,
   "id": "8f6b7c1b-2309-4088-9082-e3b8f50c3945",
   "metadata": {
    "tags": []
   },
   "outputs": [],
   "source": [
    "start = 20029\n",
    "window = 930\n",
    "left_area = primary_array[:, start:start+window][:, :20]\n",
    "right_area = primary_array[:, start:start+window][:, -20:]\n",
    "left_score, right_score = check_region(left_area), check_region(right_area)"
   ]
  },
  {
   "cell_type": "code",
   "execution_count": 65,
   "id": "db922220-65f2-40fb-906b-4346b8cd6a0b",
   "metadata": {
    "tags": []
   },
   "outputs": [
    {
     "data": {
      "text/plain": [
       "array([['a', 'c', 'c', ..., 't', 't', 'c'],\n",
       "       ['a', 'c', 'c', ..., 't', 't', 'c'],\n",
       "       ['a', 'c', 'c', ..., 't', 't', 'c'],\n",
       "       ...,\n",
       "       ['a', 'c', 'c', ..., 't', 't', 'c'],\n",
       "       ['a', 'c', 'c', ..., 't', 't', 'c'],\n",
       "       ['a', 'c', 'c', ..., 't', 't', 'c']], dtype='<U1')"
      ]
     },
     "execution_count": 65,
     "metadata": {},
     "output_type": "execute_result"
    }
   ],
   "source": [
    "primary_array[:, start:start+window]"
   ]
  },
  {
   "cell_type": "code",
   "execution_count": 66,
   "id": "8afd3390-398b-4d2d-90de-f878225266b2",
   "metadata": {
    "tags": []
   },
   "outputs": [
    {
     "data": {
      "text/plain": [
       "array([['a', 'c', 'c', 't', 't', 'g', 'a', 'a', 'g', 't', 'c', 'c', 'a',\n",
       "        'c', 'c', 'g', 'a', 'a', 'c', 'a'],\n",
       "       ['a', 'c', 'c', 't', 't', 'g', 'a', 'a', 'g', 't', 'c', 'c', 'a',\n",
       "        'c', 'c', 'g', 'a', 'a', 'c', 'a'],\n",
       "       ['a', 'c', 'c', 't', 't', 'g', 'a', 'a', 'g', 't', 'c', 'c', 'a',\n",
       "        'c', 'c', 'g', 'a', 'a', 'c', 'a'],\n",
       "       ['a', 'c', 'c', 't', 't', 'g', 'a', 'a', 'g', 't', 'c', 'c', 'a',\n",
       "        'c', 'c', 'g', 'a', 'a', 'c', 'a'],\n",
       "       ['a', 'c', 'c', 't', 't', 'g', 'a', 'a', 'g', 't', 'c', 'c', 'a',\n",
       "        'c', 'c', 'g', 'a', 'a', 'c', 'a'],\n",
       "       ['a', 'c', 'c', 't', 't', 'g', 'a', 'a', 'g', 't', 'c', 'c', 'a',\n",
       "        'c', 'c', 'g', 'a', 'a', 'c', 'a'],\n",
       "       ['a', 'c', 'c', 't', 't', 'g', 'a', 'a', 'g', 't', 'c', 'c', 'a',\n",
       "        'c', 'c', 'g', 'a', 'a', 'c', 'a'],\n",
       "       ['a', 'c', 'c', 't', 't', 'g', 'a', 'a', 'g', 't', 'c', 'c', 'a',\n",
       "        'c', 'c', 'g', 'a', 'a', 'c', 'a']], dtype='<U1')"
      ]
     },
     "execution_count": 66,
     "metadata": {},
     "output_type": "execute_result"
    }
   ],
   "source": [
    "left_area"
   ]
  },
  {
   "cell_type": "code",
   "execution_count": 49,
   "id": "6f82b31c-6018-4d10-a6d0-732d17a8b202",
   "metadata": {
    "tags": []
   },
   "outputs": [
    {
     "data": {
      "text/plain": [
       "1"
      ]
     },
     "execution_count": 49,
     "metadata": {},
     "output_type": "execute_result"
    }
   ],
   "source": [
    "check_region(left_area)"
   ]
  },
  {
   "cell_type": "code",
   "execution_count": 46,
   "id": "37b7933b-245c-49ef-8c43-ef2fed4cadcb",
   "metadata": {
    "tags": []
   },
   "outputs": [
    {
     "data": {
      "text/plain": [
       "array([['c', 'a', 'g', 't', 'c', 'g', 'a', 'g', 'a', 'c', 'g', 'c', 'g',\n",
       "        'g', 'a', 't', 'g', 'a', 'g', 'g'],\n",
       "       ['c', 'a', 'g', 't', 'c', 'g', 'a', 'g', 'a', 'c', 'g', 'c', 'g',\n",
       "        'g', 'a', 't', 'g', 'a', 'g', 'g'],\n",
       "       ['c', 'a', 'g', 't', 'c', 'g', 'a', 'g', 'a', 'c', 'g', 'c', 'g',\n",
       "        'g', 'a', 't', 'g', 'a', 'g', 'g'],\n",
       "       ['c', 'a', 'g', 't', 'c', 'g', 'a', 'g', 'a', 'c', 'g', 'c', 'g',\n",
       "        'g', 'a', 't', 'g', 'a', 'g', 'g'],\n",
       "       ['c', 'a', 'g', 't', 'c', 'g', 'a', 'g', 'a', 'c', 'g', 'c', 'g',\n",
       "        'g', 'a', 't', 'g', 'a', 'g', 'g'],\n",
       "       ['c', 'a', 'g', 't', 'c', 'g', 'a', 'g', 'a', 'c', 'g', 'c', 'g',\n",
       "        'g', 'a', 't', 'g', 'a', 'g', 'g'],\n",
       "       ['c', 'a', 'g', 't', 'c', 'g', 'a', 'g', 'a', 'c', 'g', 'c', 'g',\n",
       "        'g', 'a', 't', 'g', 'a', 'g', 'g'],\n",
       "       ['c', 'a', 'g', 't', 'c', 'g', 'a', 'g', 'a', 'c', 'g', 'c', 'g',\n",
       "        'g', 'a', 't', 'g', 'a', 'g', 'g']], dtype='<U1')"
      ]
     },
     "execution_count": 46,
     "metadata": {},
     "output_type": "execute_result"
    }
   ],
   "source": [
    "right_area"
   ]
  },
  {
   "cell_type": "code",
   "execution_count": 43,
   "id": "6223ade6-a991-4101-8cb5-78f4f377b89b",
   "metadata": {
    "tags": []
   },
   "outputs": [],
   "source": [
    "assert left_area.shape[1] == right_area.shape[1] == 20"
   ]
  },
  {
   "cell_type": "code",
   "execution_count": 58,
   "id": "9ab77f79-4580-4a7b-be1c-2095a9e566c4",
   "metadata": {
    "tags": []
   },
   "outputs": [
    {
     "data": {
      "text/plain": [
       "1"
      ]
     },
     "execution_count": 58,
     "metadata": {},
     "output_type": "execute_result"
    }
   ],
   "source": [
    "np.unique(left_area, axis=0, return_counts=True)[1].shape[0]"
   ]
  },
  {
   "cell_type": "code",
   "execution_count": null,
   "id": "843b1e73-d86d-4f3f-94a8-d12a57f7d8c5",
   "metadata": {},
   "outputs": [],
   "source": []
  }
 ],
 "metadata": {
  "kernelspec": {
   "display_name": "Python 3 (ipykernel)",
   "language": "python",
   "name": "python3"
  },
  "language_info": {
   "codemirror_mode": {
    "name": "ipython",
    "version": 3
   },
   "file_extension": ".py",
   "mimetype": "text/x-python",
   "name": "python",
   "nbconvert_exporter": "python",
   "pygments_lexer": "ipython3",
   "version": "3.10.11"
  }
 },
 "nbformat": 4,
 "nbformat_minor": 5
}
