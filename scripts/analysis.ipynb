{
 "cells": [
  {
   "cell_type": "code",
   "execution_count": 202,
   "id": "0633caf6-a65c-4bed-87b7-ae473a184edd",
   "metadata": {
    "tags": []
   },
   "outputs": [],
   "source": [
    "from pathlib import Path\n",
    "import pandas as pd\n",
    "import numpy as np\n",
    "from scipy.stats import mode\n",
    "import editdistance\n",
    "from Bio.Seq import Seq\n",
    "from Bio import SeqIO\n",
    "from Bio.SeqRecord import SeqRecord\n",
    "from joblib import Parallel, delayed\n",
    "import pybedtools"
   ]
  },
  {
   "cell_type": "code",
   "execution_count": 180,
   "id": "e5db2891-0d65-489f-8aee-18a89f3e6c97",
   "metadata": {
    "tags": []
   },
   "outputs": [],
   "source": [
    "ROOT = Path().cwd()\n",
    "PREPROCESSING = Path(\"../preprocessing\")\n",
    "ASSEMBLING = Path(\"../reference_genomes\")\n",
    "DATA = Path(\"../data\")\n",
    "CLADE_FASTA = DATA / \"multifasta_for_clades\"\n",
    "ALIGNMENTS = DATA / \"alignments\"\n",
    "CONSENSUSES = DATA / \"consensuses\""
   ]
  },
  {
   "cell_type": "code",
   "execution_count": 181,
   "id": "82cb0c08-1fef-4eeb-bbf2-357c0a526469",
   "metadata": {
    "tags": []
   },
   "outputs": [],
   "source": [
    "for name in PREPROCESSING, ASSEMBLING, DATA, CLADE_FASTA, ALIGNMENTS, CONSENSUSES:\n",
    "    name.mkdir(parents=True, exist_ok=True)"
   ]
  },
  {
   "cell_type": "code",
   "execution_count": 10,
   "id": "f543996b-9bb4-4b73-9485-6030278af6c0",
   "metadata": {
    "collapsed": true,
    "jupyter": {
     "outputs_hidden": true
    },
    "tags": []
   },
   "outputs": [
    {
     "name": "stdout",
     "output_type": "stream",
     "text": [
      "\n",
      "\n",
      "clade_1-merge_align.fasta for DQ008354.1.fasta exists\n",
      "clade_2-merge_align.fasta for DQ008354.1.fasta exists\n",
      "clade_3-merge_align.fasta for DQ008354.1.fasta exists\n",
      "clade_4-merge_align.fasta for DQ008354.1.fasta exists\n",
      "clade_5-merge_align.fasta for DQ008354.1.fasta exists\n",
      "clade_6-merge_align.fasta for DQ008354.1.fasta exists\n",
      "clade_8-merge_align.fasta for DQ008354.1.fasta exists\n",
      "clade_9-merge_align.fasta for DQ008354.1.fasta exists\n",
      "\n",
      "\n",
      "clade_1-merge_align.fasta for NC_001348.1.fasta exists\n",
      "clade_2-merge_align.fasta for NC_001348.1.fasta exists\n",
      "clade_3-merge_align.fasta for NC_001348.1.fasta exists\n",
      "clade_4-merge_align.fasta for NC_001348.1.fasta exists\n",
      "clade_5-merge_align.fasta for NC_001348.1.fasta exists\n",
      "clade_6-merge_align.fasta for NC_001348.1.fasta exists\n",
      "clade_8-merge_align.fasta for NC_001348.1.fasta exists\n",
      "clade_9-merge_align.fasta for NC_001348.1.fasta exists\n"
     ]
    }
   ],
   "source": [
    "for to_ref in ASSEMBLING.glob(\"*.fasta\"):\n",
    "    print(\"\\n\")\n",
    "    for to_clade in sorted(CLADE_FASTA.glob(\"clade_*merge.fasta\")):\n",
    "        to_align = ALIGNMENTS / to_ref.stem / f\"{to_clade.name.split('.fasta')[0]}_align.fasta\"\n",
    "        if to_align.exists():\n",
    "            print(f\"{to_align.name} for {to_ref.name} exists\")\n",
    "            continue\n",
    "        to_align.parent.mkdir(exist_ok=True, parents=True)\n",
    "        !mafft --reorder --localpair --quiet --thread 144 --maxambiguous 0.05 --addfragments {to_clade} --auto {to_ref}  > {to_align}"
   ]
  },
  {
   "cell_type": "code",
   "execution_count": 4,
   "id": "310c8688-6cf1-43a1-a41f-c34779445ec5",
   "metadata": {
    "tags": []
   },
   "outputs": [],
   "source": [
    "def alignment_to_np(to_align):\n",
    "    align_np = [np.frombuffer(seq_record.seq.encode('utf-8'), dtype=np.int8) for seq_record in SeqIO.parse(to_align, \"fasta\")]\n",
    "    align_np = np.stack(align_np)\n",
    "    return align_np"
   ]
  },
  {
   "cell_type": "code",
   "execution_count": 5,
   "id": "8170adb9-395a-4ac3-993c-d772ac1ea259",
   "metadata": {
    "tags": []
   },
   "outputs": [],
   "source": [
    "def delete_insertions(align_np):\n",
    "    mask = np.isin(align_np[0], np.frombuffer(\"-\".encode('utf-8'), dtype=np.int8))\n",
    "    return align_np[:, ~mask]"
   ]
  },
  {
   "cell_type": "code",
   "execution_count": 6,
   "id": "e66ba5c4-0bd8-4b24-a775-7d666197c58c",
   "metadata": {},
   "outputs": [],
   "source": [
    "def to_consensus(align_np):\n",
    "    consensus_np = mode(align_np[1:], axis=0, keepdims=False)\n",
    "    return consensus_np"
   ]
  },
  {
   "cell_type": "code",
   "execution_count": 7,
   "id": "e2202373-52de-4f0b-9774-feb3a186ba9e",
   "metadata": {
    "tags": []
   },
   "outputs": [],
   "source": [
    "def consensus_to_seq(consensus_np):\n",
    "    #consensus = Seq(consensus_np.mode.tobytes().decode(\"utf-8\"))\n",
    "    consensus = Seq(consensus_np.tobytes().decode(\"utf-8\"))\n",
    "    return consensus"
   ]
  },
  {
   "cell_type": "code",
   "execution_count": 105,
   "id": "b7fba358-4b4c-461b-92fd-c76c6253bef0",
   "metadata": {
    "tags": []
   },
   "outputs": [],
   "source": [
    "def job(to_align):\n",
    "    align_np = alignment_to_np(to_align)\n",
    "    align_np_modif = delete_insertions(align_np)\n",
    "    consensus_np = to_consensus(align_np_modif)\n",
    "    #consensus = consensus_to_seq(consensus_np)\n",
    "    to_save = DATA / \"consensuses\" / to_align.parent.name / f\"{to_align.name.split('-')[0]}_consensus.npy\"\n",
    "    if to_save.exists():\n",
    "        print(f\"{to_save.name} exists\")\n",
    "        return\n",
    "    to_save.parent.mkdir(exist_ok=True, parents=True)\n",
    "    return np.save(to_save, consensus_np.mode)"
   ]
  },
  {
   "cell_type": "code",
   "execution_count": 61,
   "id": "b726e536-57e0-42fa-a19b-f19e2a85dfe5",
   "metadata": {
    "tags": []
   },
   "outputs": [
    {
     "name": "stdout",
     "output_type": "stream",
     "text": [
      "CPU times: user 74.8 ms, sys: 7.13 ms, total: 81.9 ms\n",
      "Wall time: 8.07 s\n"
     ]
    }
   ],
   "source": [
    "%%time\n",
    "with Parallel(n_jobs=40) as pool:\n",
    "    for to_ref in ASSEMBLING.glob(\"*.fasta\"):\n",
    "        chunks = pool(\n",
    "            delayed(job)(to_align)\n",
    "            for to_align in sorted((ALIGNMENTS / to_ref.stem).glob(\"*merge_align.fasta\"))\n",
    "    )"
   ]
  },
  {
   "cell_type": "code",
   "execution_count": 8,
   "id": "492b743d-a707-46da-b192-84a312f26684",
   "metadata": {
    "tags": []
   },
   "outputs": [],
   "source": [
    "consensuses_by_ref = {}\n",
    "for to_ref in ASSEMBLING.glob(\"*.fasta\"):\n",
    "    consensuses = np.stack([consensus_to_seq(np.load(to_consensus)) for to_consensus in sorted(CONSENSUSES.joinpath(to_ref.stem).glob(\"*consensus.npy\"))])\n",
    "    consensuses_by_ref[to_ref.stem] = consensuses"
   ]
  },
  {
   "cell_type": "code",
   "execution_count": 9,
   "id": "6fa003e7-3f61-4e42-b8a4-5644dbe26298",
   "metadata": {
    "tags": []
   },
   "outputs": [
    {
     "data": {
      "text/plain": [
       "dict_keys(['DQ008354.1', 'NC_001348.1'])"
      ]
     },
     "execution_count": 9,
     "metadata": {},
     "output_type": "execute_result"
    }
   ],
   "source": [
    "consensuses_by_ref.keys()"
   ]
  },
  {
   "cell_type": "code",
   "execution_count": 28,
   "id": "0c5bebbc-a4b7-4c06-89ee-0c64e7a38f67",
   "metadata": {
    "tags": []
   },
   "outputs": [
    {
     "data": {
      "text/plain": [
       "(124884,)"
      ]
     },
     "execution_count": 28,
     "metadata": {},
     "output_type": "execute_result"
    }
   ],
   "source": [
    "consensuses_by_ref[\"NC_001348.1\"][0].shape"
   ]
  },
  {
   "cell_type": "code",
   "execution_count": 10,
   "id": "5d528ae5-40a1-498b-825c-4a216c59c94e",
   "metadata": {
    "tags": []
   },
   "outputs": [],
   "source": [
    "ref_DQ = [seq_record for seq_record in SeqIO.parse(ASSEMBLING / \"DQ008354.1.fasta\", \"fasta\")][0]\n",
    "ref_NC = [seq_record for seq_record in SeqIO.parse(ASSEMBLING / \"NC_001348.1.fasta\", \"fasta\")][0]\n",
    "\n",
    "assert consensuses_by_ref[\"DQ008354.1\"].shape[1] == len(ref_DQ.seq)\n",
    "assert consensuses_by_ref[\"NC_001348.1\"].shape[1] == len(ref_NC.seq)"
   ]
  },
  {
   "cell_type": "code",
   "execution_count": 11,
   "id": "9a24c00d-8e95-44ea-bcff-1ce8f510393e",
   "metadata": {
    "tags": []
   },
   "outputs": [
    {
     "data": {
      "text/plain": [
       "array([['t', 'a', 't', 'c', 't', 't', 'a'],\n",
       "       ['c', 'g', 'c', 'c', 't', 'c', 'a'],\n",
       "       ['c', 'a', 't', 'c', 't', 't', 'a'],\n",
       "       ['c', 'a', 'c', 'c', 't', 'c', 'a'],\n",
       "       ['c', 'a', 't', 'c', 't', 't', 'a'],\n",
       "       ['c', 'a', 't', 'c', 't', 'c', 'a'],\n",
       "       ['c', 'a', 't', 'c', 't', 'c', 'a'],\n",
       "       ['c', 'a', 'c', 'c', 't', 'c', 'a']], dtype='<U1')"
      ]
     },
     "execution_count": 11,
     "metadata": {},
     "output_type": "execute_result"
    }
   ],
   "source": [
    "positions = [33676-1, 37853-1, 38006-1, 52365-1, 69424-1, 98362-1, 114639-1]\n",
    "consensuses_by_ref[\"DQ008354.1\"][:, positions]\n",
    "# совпадает не всё"
   ]
  },
  {
   "cell_type": "code",
   "execution_count": 12,
   "id": "5bbe088e-b0e3-4c25-969c-db40b631d3d9",
   "metadata": {
    "tags": []
   },
   "outputs": [
    {
     "data": {
      "text/plain": [
       "array([['t', 'a', 't', 'c', 'g', 't', 't'],\n",
       "       ['c', 'g', 'c', 'c', 'g', 'c', 't'],\n",
       "       ['c', 'a', 't', 'c', 'a', 't', 't'],\n",
       "       ['c', 'a', 'c', 't', 'g', 'c', 't'],\n",
       "       ['c', 'a', 't', 't', 'g', 't', 't'],\n",
       "       ['c', 'a', 't', 'c', 'a', 'c', 'c'],\n",
       "       ['c', 'a', 't', 'c', 'g', 'c', 't'],\n",
       "       ['c', 'a', 'c', 'c', 'a', 'c', 't']], dtype='<U1')"
      ]
     },
     "execution_count": 12,
     "metadata": {},
     "output_type": "execute_result"
    }
   ],
   "source": [
    "positions = [33725-1, 37902-1, 38055-1, 52365-1, 69424-1, 98437-1, 114639-1]\n",
    "consensuses_by_ref[\"NC_001348.1\"][:, positions]\n",
    "# всё совпало"
   ]
  },
  {
   "attachments": {
    "064b1cf8-f57a-4678-83eb-8d6af6c000ea.png": {
     "image/png": "[encoded data removed]"
    }
   },
   "cell_type": "markdown",
   "id": "fcda9889-00f1-4919-90ac-9a2834aeed15",
   "metadata": {},
   "source": [
    "![image.png](attachment:064b1cf8-f57a-4678-83eb-8d6af6c000ea.png)"
   ]
  },
  {
   "cell_type": "code",
   "execution_count": 13,
   "id": "a442ae0e-141a-4ee6-97a1-de623ec43d01",
   "metadata": {
    "tags": []
   },
   "outputs": [
    {
     "data": {
      "text/plain": [
       "array([['g', 'g', 'c', ..., 'a', 'g', 't'],\n",
       "       ['g', 'g', 'c', ..., 'a', 'g', 't'],\n",
       "       ['g', 'g', 'g', ..., 'a', 'g', 't'],\n",
       "       ...,\n",
       "       ['g', 'g', 'c', ..., 'a', 'g', 't'],\n",
       "       ['a', 'g', 'g', ..., 'a', 'g', 't'],\n",
       "       ['a', 'g', 'c', ..., 'a', 'g', 't']], dtype='<U1')"
      ]
     },
     "execution_count": 13,
     "metadata": {},
     "output_type": "execute_result"
    }
   ],
   "source": [
    "consensuses_by_ref[\"NC_001348.1\"][:, 0:1000]"
   ]
  },
  {
   "cell_type": "code",
   "execution_count": 14,
   "id": "210e1053-a56b-4c0a-9437-b3e0607b5687",
   "metadata": {
    "tags": []
   },
   "outputs": [],
   "source": [
    "consensuses_np_by_ref = {}\n",
    "for to_ref in ASSEMBLING.glob(\"*.fasta\"):\n",
    "    consensuses_np = np.stack([np.load(to_consensus) for to_consensus in sorted(CONSENSUSES.joinpath(to_ref.stem).glob(\"*consensus.npy\"))])\n",
    "    consensuses_np_by_ref[to_ref.stem] = consensuses_np"
   ]
  },
  {
   "cell_type": "code",
   "execution_count": 15,
   "id": "2829a092-d36c-4e63-878a-cb8d53d46cf3",
   "metadata": {
    "tags": []
   },
   "outputs": [
    {
     "data": {
      "text/plain": [
       "array([[103, 103,  99, ...,  97, 103, 116],\n",
       "       [103, 103,  99, ...,  97, 103, 116],\n",
       "       [103, 103, 103, ...,  97, 103, 116],\n",
       "       ...,\n",
       "       [103, 103,  99, ...,  97, 103, 116],\n",
       "       [ 97, 103, 103, ...,  97, 103, 116],\n",
       "       [ 97, 103,  99, ...,  97, 103, 116]], dtype=int8)"
      ]
     },
     "execution_count": 15,
     "metadata": {},
     "output_type": "execute_result"
    }
   ],
   "source": [
    "consensuses_np_by_ref[\"NC_001348.1\"][:, 0:1000]"
   ]
  },
  {
   "cell_type": "code",
   "execution_count": 16,
   "id": "22051d6a-d4e2-4604-8ebb-4ce3ea04bf24",
   "metadata": {
    "tags": []
   },
   "outputs": [],
   "source": [
    "def are_all_rows_unique(array):\n",
    "    unique_rows = np.unique(array, axis=0)\n",
    "    return unique_rows.shape[0] == array.shape[0]"
   ]
  },
  {
   "cell_type": "code",
   "execution_count": 17,
   "id": "fcac9a36-0bc3-4424-b2cf-acd3f6cc68ec",
   "metadata": {
    "tags": []
   },
   "outputs": [
    {
     "data": {
      "text/plain": [
       "True"
      ]
     },
     "execution_count": 17,
     "metadata": {},
     "output_type": "execute_result"
    }
   ],
   "source": [
    "are_all_rows_unique(consensuses_by_ref[\"NC_001348.1\"][:, positions])"
   ]
  },
  {
   "cell_type": "code",
   "execution_count": 18,
   "id": "89d27af4-52de-4c06-a656-25a7af4806f2",
   "metadata": {
    "tags": []
   },
   "outputs": [
    {
     "data": {
      "text/plain": [
       "False"
      ]
     },
     "execution_count": 18,
     "metadata": {},
     "output_type": "execute_result"
    }
   ],
   "source": [
    "are_all_rows_unique(consensuses_np_by_ref[\"NC_001348.1\"][:, 0:1000])"
   ]
  },
  {
   "cell_type": "code",
   "execution_count": 19,
   "id": "01be7748-f54e-4346-895e-eb1b2a53b21c",
   "metadata": {
    "tags": []
   },
   "outputs": [
    {
     "data": {
      "text/plain": [
       "124884"
      ]
     },
     "execution_count": 19,
     "metadata": {},
     "output_type": "execute_result"
    }
   ],
   "source": [
    "consensuses_np_by_ref[\"NC_001348.1\"].shape[1]"
   ]
  },
  {
   "cell_type": "code",
   "execution_count": 20,
   "id": "969ca8c4-fb69-4676-b393-449bc167f610",
   "metadata": {
    "tags": []
   },
   "outputs": [],
   "source": [
    "def create_distance_matrix(array):\n",
    "    # Создание массива для хранения расстояний между строками\n",
    "    num_rows, num_columns = array.shape\n",
    "    distances = np.zeros((num_rows, num_rows), dtype=\"int8\")\n",
    "\n",
    "    # Вычисление расстояний между строками\n",
    "    for i in range(num_rows):\n",
    "        for j in range(i + 1, num_rows):\n",
    "            distances[i, j] = editdistance.eval(array[i], array[j])\n",
    "            distances[j, i] = distances[i, j]  # расстояние Левенштейна симметрично\n",
    "    return distances"
   ]
  },
  {
   "cell_type": "code",
   "execution_count": 21,
   "id": "c38e3fc4-44d3-4ab4-9615-9948fa1371fc",
   "metadata": {
    "tags": []
   },
   "outputs": [
    {
     "data": {
      "text/plain": [
       "156"
      ]
     },
     "execution_count": 21,
     "metadata": {},
     "output_type": "execute_result"
    }
   ],
   "source": [
    "create_distance_matrix(consensuses_by_ref[\"NC_001348.1\"][:, positions]).sum()"
   ]
  },
  {
   "cell_type": "code",
   "execution_count": 35,
   "id": "c07de2c1-8918-4c8b-843b-f62136b8513d",
   "metadata": {
    "tags": []
   },
   "outputs": [
    {
     "name": "stdout",
     "output_type": "stream",
     "text": [
      "CPU times: user 230 ms, sys: 808 µs, total: 230 ms\n",
      "Wall time: 227 ms\n"
     ]
    },
    {
     "data": {
      "text/plain": [
       "326"
      ]
     },
     "execution_count": 35,
     "metadata": {},
     "output_type": "execute_result"
    }
   ],
   "source": [
    "%%time\n",
    "create_distance_matrix(consensuses_by_ref[\"NC_001348.1\"][:, 0:1000]).sum()"
   ]
  },
  {
   "cell_type": "code",
   "execution_count": 23,
   "id": "bf1e5fc2-c12e-4ef3-85ca-6839ab7670b6",
   "metadata": {
    "tags": []
   },
   "outputs": [
    {
     "data": {
      "text/plain": [
       "1902"
      ]
     },
     "execution_count": 23,
     "metadata": {},
     "output_type": "execute_result"
    }
   ],
   "source": [
    "create_distance_matrix(consensuses_by_ref[\"NC_001348.1\"][:, 13101:14101]).sum()"
   ]
  },
  {
   "cell_type": "code",
   "execution_count": 92,
   "id": "690b4f25-d74d-4ee9-a438-a9c748011b41",
   "metadata": {
    "tags": []
   },
   "outputs": [],
   "source": [
    "def check_region(array): \n",
    "    identity = np.unique(array, axis=0, return_counts=True)[1].shape[0]\n",
    "    return identity"
   ]
  },
  {
   "cell_type": "markdown",
   "id": "b2289e48-0a80-4c26-a354-8e5ef8ac8f4c",
   "metadata": {
    "tags": []
   },
   "source": [
    "def check_primers_region(array):\n",
    "    left_area = np.unique(consensuses_by_ref[\"NC_001348.1\"][:, 0:1000][:, :20], axis=0, return_counts=True)[1].shape[0]\n",
    "    right_area = np.unique(consensuses_by_ref[\"NC_001348.1\"][:, 0:1000][:, :-20], axis=0, return_counts=True)[1].shape[0]\n",
    "    \n",
    "    left_res = np.unique(left_area, axis=0, return_counts=True)[1].shape[0]\n",
    "    right_res = np.unique(right_area, axis=0, return_counts=True)[1].shape[0]\n",
    "    return (left_res, right_res)"
   ]
  },
  {
   "cell_type": "code",
   "execution_count": 52,
   "id": "449a24e3-697f-44c2-a3ca-c9a68ab612d7",
   "metadata": {
    "tags": []
   },
   "outputs": [
    {
     "data": {
      "text/plain": [
       "array([['a', 't', 'g', 't', 'g', 'c', 'g', 'a', 't', 'a', 'c', 'a', 't',\n",
       "        'c', 't', 't', 'a', 'a', 'g', 't'],\n",
       "       ['a', 't', 'g', 't', 'g', 'c', 'g', 'a', 't', 'a', 'c', 'a', 't',\n",
       "        'c', 't', 't', 'a', 'a', 'g', 't'],\n",
       "       ['a', 't', 'g', 't', 'g', 'c', 'g', 'a', 't', 'a', 'c', 'a', 't',\n",
       "        'c', 't', 't', 'a', 'a', 'g', 't'],\n",
       "       ['a', 't', 'g', 't', 'g', 'c', 'g', 'a', 't', 'a', 'c', 'a', 't',\n",
       "        'c', 't', 't', 'a', 'a', 'g', 't'],\n",
       "       ['a', 't', 'g', 't', 'g', 'c', 'g', 'a', 't', 'a', 'c', 'a', 't',\n",
       "        'c', 't', 't', 'a', 'a', 'g', 't'],\n",
       "       ['a', 't', 'g', 't', 'g', 'c', 'g', 'a', 't', 'a', 'c', 'a', 't',\n",
       "        'c', 't', 't', 'a', 'a', 'g', 't'],\n",
       "       ['a', 't', 'g', 't', 'g', 'c', 'g', 'a', 't', 'a', 'c', 'a', 't',\n",
       "        'c', 't', 't', 'a', 'a', 'g', 't'],\n",
       "       ['a', 't', 'g', 't', 'g', 'c', 'g', 'a', 't', 'a', 'c', 'a', 't',\n",
       "        'c', 't', 't', 'a', 'a', 'g', 't']], dtype='<U1')"
      ]
     },
     "execution_count": 52,
     "metadata": {},
     "output_type": "execute_result"
    }
   ],
   "source": [
    "consensuses_by_ref[\"NC_001348.1\"][:, 0:1000][:, :20]\n",
    "consensuses_by_ref[\"NC_001348.1\"][:, 0:1000][:, -20:]"
   ]
  },
  {
   "cell_type": "code",
   "execution_count": 61,
   "id": "e1818bcf-6b7f-4a8d-a4e8-9c8e1f63a3cd",
   "metadata": {
    "tags": []
   },
   "outputs": [
    {
     "data": {
      "text/plain": [
       "array([['t', 'a', 't', 'c', 'g', 't', 't'],\n",
       "       ['c', 'g', 'c', 'c', 'g', 'c', 't'],\n",
       "       ['c', 'a', 't', 'c', 'a', 't', 't'],\n",
       "       ['c', 'a', 'c', 't', 'g', 'c', 't'],\n",
       "       ['c', 'a', 't', 't', 'g', 't', 't'],\n",
       "       ['c', 'a', 't', 'c', 'a', 'c', 'c'],\n",
       "       ['c', 'a', 't', 'c', 'g', 'c', 't'],\n",
       "       ['c', 'a', 'c', 'c', 'a', 'c', 't']], dtype='<U1')"
      ]
     },
     "execution_count": 61,
     "metadata": {},
     "output_type": "execute_result"
    }
   ],
   "source": [
    "consensuses_by_ref[\"NC_001348.1\"][:, positions]"
   ]
  },
  {
   "cell_type": "code",
   "execution_count": 90,
   "id": "7a67182d-1287-46f8-9293-11a0550bd994",
   "metadata": {
    "tags": []
   },
   "outputs": [
    {
     "data": {
      "text/plain": [
       "3"
      ]
     },
     "execution_count": 90,
     "metadata": {},
     "output_type": "execute_result"
    }
   ],
   "source": [
    "#Если равно единице, то это полностью идентиный участок для всех консенсусов\n",
    "#В данном случае = 3. Это значит, что есть 3 различных варианта последовательностей на этом участке\n",
    "np.unique(consensuses_by_ref[\"NC_001348.1\"][:, 20:100], axis=0, return_counts=True)[1].shape[0]"
   ]
  },
  {
   "cell_type": "code",
   "execution_count": 203,
   "id": "6c4e02d2-4128-4e69-99fe-9515c5bc26a4",
   "metadata": {
    "tags": []
   },
   "outputs": [],
   "source": [
    "to_bed = BED / f\"insertion_regions-NC_001348.1.bed\"\n",
    "insertion_regions = pybedtools.BedTool(to_bed)\n",
    "insertion_regions = insertion_regions.sort()"
   ]
  },
  {
   "cell_type": "code",
   "execution_count": 206,
   "id": "af6cf3e2-7a3e-4efa-bfeb-39af88434089",
   "metadata": {
    "tags": []
   },
   "outputs": [],
   "source": [
    "def job(start, window, primary_array):\n",
    "    if are_all_rows_unique(primary_array[:, start:start+window]):\n",
    "        primers_area = pybedtools.BedTool(f'''\n",
    "                                NC_001348.1 {start} {start+20}\n",
    "                                NC_001348.1 {start+window-20} {start+window}\n",
    "                               ''', from_string=True)\n",
    "        number_of_insertion_problems = primers_area.intersect(insertion_regions).count()\n",
    "        \n",
    "        left_area = primary_array[:, start:start+window][:, :20]\n",
    "        right_area = primary_array[:, start:start+window][:, :-20]\n",
    "        left_score, right_score = check_region(left_area), check_region(right_area)\n",
    "\n",
    "        total_distance = create_distance_matrix(primary_array[:, start:start+window]).sum()\n",
    "        record = SeqRecord(seq=ref_NC.seq[start:start+window], id=f\"region {start}:{start+window} in NC_001348.1\")\n",
    "        to_save = PREPROCESSING / \"selection_of_unique_region\" / f\"window_{window}\" / f\"{number_of_insertion_problems}_insertion_problems\" / f\"l_score_{left_score}-r_score_{right_score}\" / f\"total_dist-{total_distance}\" / f\"region-{start}:{start+window}.fasta\"\n",
    "        if to_save.exists():\n",
    "            print(f\"{to_save.name} exists\")\n",
    "            return\n",
    "        to_save.parent.mkdir(exist_ok=True, parents=True)\n",
    "        SeqIO.write(record, to_save, \"fasta\")"
   ]
  },
  {
   "cell_type": "code",
   "execution_count": 207,
   "id": "a31ceca5-71f3-42b2-933e-c00e21220100",
   "metadata": {
    "tags": []
   },
   "outputs": [
    {
     "name": "stdout",
     "output_type": "stream",
     "text": [
      "CPU times: user 9min 11s, sys: 1min 29s, total: 10min 40s\n",
      "Wall time: 11min 25s\n"
     ]
    }
   ],
   "source": [
    "%%time\n",
    "with Parallel(n_jobs=-1) as pool:\n",
    "    chunks = pool(\n",
    "        delayed(job)(start, window=1000, primary_array=consensuses_np_by_ref[\"NC_001348.1\"])\n",
    "        for start in range(consensuses_np_by_ref[\"NC_001348.1\"].shape[1]-1)\n",
    "    )"
   ]
  },
  {
   "cell_type": "code",
   "execution_count": null,
   "id": "2d366f5b-90f2-4231-b43a-d08acc8f19ff",
   "metadata": {},
   "outputs": [],
   "source": []
  },
  {
   "cell_type": "code",
   "execution_count": null,
   "id": "ef51abfe-0670-4d09-bab3-563366d647d1",
   "metadata": {},
   "outputs": [],
   "source": []
  },
  {
   "cell_type": "code",
   "execution_count": null,
   "id": "c78e090e-6e5a-441d-be51-4228ae27e770",
   "metadata": {},
   "outputs": [],
   "source": []
  },
  {
   "cell_type": "code",
   "execution_count": 191,
   "id": "d0265efd-da00-4305-9fb6-4210a43e66b4",
   "metadata": {
    "tags": []
   },
   "outputs": [],
   "source": [
    "to_align = Path(\"../data/alignments/NC_001348.1/clade_1-merge_align.fasta\")\n",
    "a = alignment_to_np(to_align)\n",
    "a_copy = a.copy()\n",
    "b = delete_insertions(a)\n",
    "c = to_consensus(b).mode"
   ]
  },
  {
   "cell_type": "code",
   "execution_count": 192,
   "id": "ad4380a0-e778-412f-ac6e-d9036c6f39cc",
   "metadata": {
    "tags": []
   },
   "outputs": [
    {
     "data": {
      "text/plain": [
       "((20, 127395), (20, 124884))"
      ]
     },
     "execution_count": 192,
     "metadata": {},
     "output_type": "execute_result"
    }
   ],
   "source": [
    "a.shape, b.shape"
   ]
  },
  {
   "cell_type": "code",
   "execution_count": 193,
   "id": "4f40fbcd-136f-4595-9233-e1a21e4ed6a8",
   "metadata": {
    "tags": []
   },
   "outputs": [
    {
     "data": {
      "text/plain": [
       "array([   108,  13954,  13955, ..., 123154, 123156, 127352])"
      ]
     },
     "execution_count": 193,
     "metadata": {},
     "output_type": "execute_result"
    }
   ],
   "source": [
    "np.where(a[0] == 45)[0]"
   ]
  },
  {
   "cell_type": "code",
   "execution_count": 196,
   "id": "359ce804-67c4-42d0-8dfc-d30b486733c3",
   "metadata": {
    "tags": []
   },
   "outputs": [
    {
     "data": {
      "text/plain": [
       "(2511,)"
      ]
     },
     "execution_count": 196,
     "metadata": {},
     "output_type": "execute_result"
    }
   ],
   "source": [
    "np.where(a[0] == 45)[0].shape"
   ]
  },
  {
   "cell_type": "code",
   "execution_count": 194,
   "id": "dfedcf59-c8da-43db-8512-a84519da4641",
   "metadata": {
    "tags": []
   },
   "outputs": [
    {
     "data": {
      "text/plain": [
       "array([], dtype=int64)"
      ]
     },
     "execution_count": 194,
     "metadata": {},
     "output_type": "execute_result"
    }
   ],
   "source": [
    "np.where(b[0] == 45)[0]"
   ]
  },
  {
   "cell_type": "code",
   "execution_count": 197,
   "id": "6ea0cf13-645a-4b7e-b366-35f86a706140",
   "metadata": {
    "tags": []
   },
   "outputs": [
    {
     "data": {
      "text/plain": [
       "array([   108,  13953,  13953, ..., 120646, 120647, 124842])"
      ]
     },
     "execution_count": 197,
     "metadata": {},
     "output_type": "execute_result"
    }
   ],
   "source": [
    "insertion_coordinats_finder(a[0])"
   ]
  },
  {
   "cell_type": "code",
   "execution_count": 198,
   "id": "8f6f39ec-a983-4df1-9bca-19038d248413",
   "metadata": {
    "tags": []
   },
   "outputs": [
    {
     "data": {
      "text/plain": [
       "(2511,)"
      ]
     },
     "execution_count": 198,
     "metadata": {},
     "output_type": "execute_result"
    }
   ],
   "source": [
    "insertion_coordinats_finder(a[0]).shape"
   ]
  },
  {
   "cell_type": "code",
   "execution_count": 138,
   "id": "b6715c32-36e4-4056-9e88-a75f4b8e3ac0",
   "metadata": {
    "tags": []
   },
   "outputs": [
    {
     "data": {
      "text/plain": [
       "array([45], dtype=int8)"
      ]
     },
     "execution_count": 138,
     "metadata": {},
     "output_type": "execute_result"
    }
   ],
   "source": [
    "np.frombuffer(\"-\".encode('utf-8'), dtype=np.int8)"
   ]
  },
  {
   "cell_type": "code",
   "execution_count": 141,
   "id": "59e203e1-a75c-40cc-b257-1f2d61a42ae2",
   "metadata": {
    "tags": []
   },
   "outputs": [
    {
     "data": {
      "text/plain": [
       "'45'"
      ]
     },
     "execution_count": 141,
     "metadata": {},
     "output_type": "execute_result"
    }
   ],
   "source": [
    "b\"45\".decode(\"utf-8\")"
   ]
  },
  {
   "cell_type": "code",
   "execution_count": null,
   "id": "dcc96cb3-0a1c-4123-86f8-4a280f8009b7",
   "metadata": {},
   "outputs": [],
   "source": []
  }
 ],
 "metadata": {
  "kernelspec": {
   "display_name": "Python 3 (ipykernel)",
   "language": "python",
   "name": "python3"
  },
  "language_info": {
   "codemirror_mode": {
    "name": "ipython",
    "version": 3
   },
   "file_extension": ".py",
   "mimetype": "text/x-python",
   "name": "python",
   "nbconvert_exporter": "python",
   "pygments_lexer": "ipython3",
   "version": "3.10.11"
  }
 },
 "nbformat": 4,
 "nbformat_minor": 5
}
