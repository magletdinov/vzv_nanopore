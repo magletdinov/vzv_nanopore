{
 "cells": [
  {
   "cell_type": "code",
   "execution_count": 88,
   "id": "9709c67f-dabc-4629-b1fe-b1f790bd6e6d",
   "metadata": {
    "tags": []
   },
   "outputs": [],
   "source": [
    "from pathlib import Path\n",
    "import pandas as pd\n",
    "import numpy as np\n",
    "from scipy.stats import mode\n",
    "from Bio.Seq import Seq\n",
    "from Bio import SeqIO\n",
    "from Bio.SeqRecord import SeqRecord\n",
    "import pybedtools"
   ]
  },
  {
   "cell_type": "code",
   "execution_count": 8,
   "id": "fdf063fc-be95-44b8-a237-00cf958660a6",
   "metadata": {
    "tags": []
   },
   "outputs": [],
   "source": [
    "ROOT = Path().cwd()\n",
    "PREPROCESSING = Path(\"../preprocessing\")\n",
    "ASSEMBLING = Path(\"../reference_genomes\")\n",
    "DATA = Path(\"../data\")\n",
    "CLADE_FASTA = DATA / \"multifasta_for_clades\"\n",
    "ALIGNMENTS = DATA / \"alignments\"\n",
    "CONSENSUSES = DATA / \"consensuses\"\n",
    "BED = PREPROCESSING / \"insertion_regions\""
   ]
  },
  {
   "cell_type": "code",
   "execution_count": 9,
   "id": "6c9a47e8-3f1d-4fac-bbdb-bcd799c9e625",
   "metadata": {
    "tags": []
   },
   "outputs": [],
   "source": [
    "for name in PREPROCESSING, ASSEMBLING, DATA, CLADE_FASTA, ALIGNMENTS, CONSENSUSES, BED:\n",
    "    name.mkdir(parents=True, exist_ok=True)"
   ]
  },
  {
   "cell_type": "code",
   "execution_count": 62,
   "id": "555e5356-8f93-4ca5-a038-822a38a8875f",
   "metadata": {
    "tags": []
   },
   "outputs": [],
   "source": [
    "def alignment_to_np(to_align):\n",
    "    align_np = [np.frombuffer(seq_record.seq.encode('utf-8'), dtype=np.int8) for seq_record in SeqIO.parse(to_align, \"fasta\")]\n",
    "    align_np = np.stack(align_np)\n",
    "    return align_np"
   ]
  },
  {
   "cell_type": "code",
   "execution_count": 83,
   "id": "36f6da01-333c-4c11-8414-ffe249d7288b",
   "metadata": {
    "tags": []
   },
   "outputs": [],
   "source": [
    "def insertion_coordinats_finder(array):\n",
    "    #поиск реальных коордиант инсерций после их вырезания из выравнивания\n",
    "    insetion_coordinats = []\n",
    "    for i in np.where(array == 45)[0]:\n",
    "        #sub_array = a[0][:i]\n",
    "        insetion_coordinats.append(i-len(insetion_coordinats))\n",
    "    insetion_coordinats = np.unique(np.asarray(insetion_coordinats))\n",
    "    return insetion_coordinats"
   ]
  },
  {
   "cell_type": "code",
   "execution_count": 64,
   "id": "c1e68866-9351-4175-a86c-51c2d1f263de",
   "metadata": {
    "tags": []
   },
   "outputs": [],
   "source": [
    "def delete_insertions(align_np):\n",
    "    mask = np.isin(align_np[0], np.frombuffer(\"-\".encode('utf-8'), dtype=np.int8))\n",
    "    return align_np[:, ~mask]"
   ]
  },
  {
   "cell_type": "code",
   "execution_count": 86,
   "id": "212d9887-b274-4c70-9497-bdc908dca329",
   "metadata": {
    "tags": []
   },
   "outputs": [
    {
     "name": "stdout",
     "output_type": "stream",
     "text": [
      "DQ008354.1\n",
      "NC_001348.1\n"
     ]
    }
   ],
   "source": [
    "for to_ref in ASSEMBLING.glob(\"*.fasta\"):\n",
    "    print(to_ref.stem)\n",
    "    to_bed = BED / f\"insertion_regions-{to_ref.stem}.bed\"\n",
    "    to_bed.parent.mkdir(exist_ok=True, parents=True)\n",
    "    stream = open(to_bed, 'w')\n",
    "    unique_insertions = np.unique(np.concatenate([insertion_coordinats_finder(alignment_to_np(to_fasta)[0]) for to_fasta in ALIGNMENTS.joinpath(to_ref.stem).glob(\"*.fasta\")]))\n",
    "    for coord in unique_insertions:\n",
    "        stream.write(f\"{to_ref.stem}\\t{coord}\\t{coord+1}\\n\")\n",
    "    stream.close()"
   ]
  },
  {
   "cell_type": "code",
   "execution_count": 89,
   "id": "aa3a96c3-2289-4f49-a9c1-a5a33849a4f3",
   "metadata": {
    "collapsed": true,
    "jupyter": {
     "outputs_hidden": true
    },
    "tags": []
   },
   "outputs": [
    {
     "name": "stdout",
     "output_type": "stream",
     "text": [
      "NC_001348.1\t10\t11\n",
      "NC_001348.1\t25\t26\n",
      "NC_001348.1\t32\t33\n",
      "NC_001348.1\t52\t53\n",
      "NC_001348.1\t96\t97\n",
      "NC_001348.1\t108\t109\n",
      "NC_001348.1\t1869\t1870\n",
      "NC_001348.1\t13953\t13954\n",
      "NC_001348.1\t13994\t13995\n",
      "NC_001348.1\t14018\t14019\n",
      "NC_001348.1\t14055\t14056\n",
      "NC_001348.1\t14122\t14123\n",
      "NC_001348.1\t14126\t14127\n",
      "NC_001348.1\t14129\t14130\n",
      "NC_001348.1\t14134\t14135\n",
      "NC_001348.1\t14137\t14138\n",
      "NC_001348.1\t14197\t14198\n",
      "NC_001348.1\t14238\t14239\n",
      "NC_001348.1\t20728\t20729\n",
      "NC_001348.1\t20789\t20790\n",
      "NC_001348.1\t20795\t20796\n",
      "NC_001348.1\t20800\t20801\n",
      "NC_001348.1\t20865\t20866\n",
      "NC_001348.1\t20879\t20880\n",
      "NC_001348.1\t20912\t20913\n",
      "NC_001348.1\t20921\t20922\n",
      "NC_001348.1\t20926\t20927\n",
      "NC_001348.1\t20932\t20933\n",
      "NC_001348.1\t20938\t20939\n",
      "NC_001348.1\t40488\t40489\n",
      "NC_001348.1\t41443\t41444\n",
      "NC_001348.1\t41486\t41487\n",
      "NC_001348.1\t41495\t41496\n",
      "NC_001348.1\t41499\t41500\n",
      "NC_001348.1\t41504\t41505\n",
      "NC_001348.1\t42401\t42402\n",
      "NC_001348.1\t59756\t59757\n",
      "NC_001348.1\t60266\t60267\n",
      "NC_001348.1\t60269\t60270\n",
      "NC_001348.1\t71374\t71375\n",
      "NC_001348.1\t74854\t74855\n",
      "NC_001348.1\t78134\t78135\n",
      "NC_001348.1\t78135\t78136\n",
      "NC_001348.1\t78140\t78141\n",
      "NC_001348.1\t78141\t78142\n",
      "NC_001348.1\t78142\t78143\n",
      "NC_001348.1\t78144\t78145\n",
      "NC_001348.1\t89583\t89584\n",
      "NC_001348.1\t90417\t90418\n",
      "NC_001348.1\t90423\t90424\n",
      "NC_001348.1\t92809\t92810\n",
      "NC_001348.1\t101620\t101621\n",
      "NC_001348.1\t102074\t102075\n",
      "NC_001348.1\t104970\t104971\n",
      "NC_001348.1\t104976\t104977\n",
      "NC_001348.1\t104977\t104978\n",
      "NC_001348.1\t104987\t104988\n",
      "NC_001348.1\t105005\t105006\n",
      "NC_001348.1\t105007\t105008\n",
      "NC_001348.1\t105008\t105009\n",
      "NC_001348.1\t105009\t105010\n",
      "NC_001348.1\t105045\t105046\n",
      "NC_001348.1\t105062\t105063\n",
      "NC_001348.1\t105140\t105141\n",
      "NC_001348.1\t105146\t105147\n",
      "NC_001348.1\t105149\t105150\n",
      "NC_001348.1\t109244\t109245\n",
      "NC_001348.1\t109245\t109246\n",
      "NC_001348.1\t109691\t109692\n",
      "NC_001348.1\t109694\t109695\n",
      "NC_001348.1\t109696\t109697\n",
      "NC_001348.1\t109769\t109770\n",
      "NC_001348.1\t109791\t109792\n",
      "NC_001348.1\t109798\t109799\n",
      "NC_001348.1\t109802\t109803\n",
      "NC_001348.1\t109853\t109854\n",
      "NC_001348.1\t109854\t109855\n",
      "NC_001348.1\t109870\t109871\n",
      "NC_001348.1\t109875\t109876\n",
      "NC_001348.1\t109880\t109881\n",
      "NC_001348.1\t109884\t109885\n",
      "NC_001348.1\t109885\t109886\n",
      "NC_001348.1\t109891\t109892\n",
      "NC_001348.1\t109894\t109895\n",
      "NC_001348.1\t109896\t109897\n",
      "NC_001348.1\t109944\t109945\n",
      "NC_001348.1\t110214\t110215\n",
      "NC_001348.1\t110218\t110219\n",
      "NC_001348.1\t110226\t110227\n",
      "NC_001348.1\t110231\t110232\n",
      "NC_001348.1\t110232\t110233\n",
      "NC_001348.1\t110235\t110236\n",
      "NC_001348.1\t110359\t110360\n",
      "NC_001348.1\t110360\t110361\n",
      "NC_001348.1\t110378\t110379\n",
      "NC_001348.1\t110386\t110387\n",
      "NC_001348.1\t110393\t110394\n",
      "NC_001348.1\t112127\t112128\n",
      "NC_001348.1\t112129\t112130\n",
      "NC_001348.1\t112221\t112222\n",
      "NC_001348.1\t112290\t112291\n",
      "NC_001348.1\t117762\t117763\n",
      "NC_001348.1\t117764\t117765\n",
      "NC_001348.1\t117767\t117768\n",
      "NC_001348.1\t119503\t119504\n",
      "NC_001348.1\t119518\t119519\n",
      "NC_001348.1\t119525\t119526\n",
      "NC_001348.1\t119527\t119528\n",
      "NC_001348.1\t119536\t119537\n",
      "NC_001348.1\t119653\t119654\n",
      "NC_001348.1\t119654\t119655\n",
      "NC_001348.1\t119656\t119657\n",
      "NC_001348.1\t119659\t119660\n",
      "NC_001348.1\t119661\t119662\n",
      "NC_001348.1\t119669\t119670\n",
      "NC_001348.1\t119951\t119952\n",
      "NC_001348.1\t120008\t120009\n",
      "NC_001348.1\t120016\t120017\n",
      "NC_001348.1\t120017\t120018\n",
      "NC_001348.1\t120022\t120023\n",
      "NC_001348.1\t120023\t120024\n",
      "NC_001348.1\t120036\t120037\n",
      "NC_001348.1\t120037\t120038\n",
      "NC_001348.1\t120088\t120089\n",
      "NC_001348.1\t120112\t120113\n",
      "NC_001348.1\t120126\t120127\n",
      "NC_001348.1\t120129\t120130\n",
      "NC_001348.1\t120131\t120132\n",
      "NC_001348.1\t120132\t120133\n",
      "NC_001348.1\t120133\t120134\n",
      "NC_001348.1\t120200\t120201\n",
      "NC_001348.1\t120202\t120203\n",
      "NC_001348.1\t120643\t120644\n",
      "NC_001348.1\t120646\t120647\n",
      "NC_001348.1\t120647\t120648\n",
      "NC_001348.1\t124745\t124746\n",
      "NC_001348.1\t124748\t124749\n",
      "NC_001348.1\t124755\t124756\n",
      "NC_001348.1\t124827\t124828\n",
      "NC_001348.1\t124830\t124831\n",
      "NC_001348.1\t124842\t124843\n",
      "NC_001348.1\t124884\t124885\n",
      "\n"
     ]
    }
   ],
   "source": [
    "to_bed = BED / f\"insertion_regions-NC_001348.1.bed\"\n",
    "insertion_regions = pybedtools.BedTool(to_bed)\n",
    "insertion_regions = insertion_regions.sort()\n",
    "print(insertion_regions)"
   ]
  },
  {
   "cell_type": "code",
   "execution_count": null,
   "id": "3f26e5e4-a38e-4254-b177-6e5bb53cb5a9",
   "metadata": {},
   "outputs": [],
   "source": []
  }
 ],
 "metadata": {
  "kernelspec": {
   "display_name": "Python 3 (ipykernel)",
   "language": "python",
   "name": "python3"
  },
  "language_info": {
   "codemirror_mode": {
    "name": "ipython",
    "version": 3
   },
   "file_extension": ".py",
   "mimetype": "text/x-python",
   "name": "python",
   "nbconvert_exporter": "python",
   "pygments_lexer": "ipython3",
   "version": "3.10.11"
  }
 },
 "nbformat": 4,
 "nbformat_minor": 5
}
