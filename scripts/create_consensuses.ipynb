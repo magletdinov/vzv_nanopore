{
 "cells": [
  {
   "cell_type": "code",
   "execution_count": 2,
   "id": "0633caf6-a65c-4bed-87b7-ae473a184edd",
   "metadata": {
    "tags": []
   },
   "outputs": [],
   "source": [
    "from pathlib import Path\n",
    "import pandas as pd\n",
    "import numpy as np\n",
    "from scipy.stats import mode\n",
    "from Bio.Seq import Seq\n",
    "from Bio import SeqIO\n",
    "from Bio.SeqRecord import SeqRecord"
   ]
  },
  {
   "cell_type": "code",
   "execution_count": 3,
   "id": "e5db2891-0d65-489f-8aee-18a89f3e6c97",
   "metadata": {
    "tags": []
   },
   "outputs": [],
   "source": [
    "ROOT = Path().cwd()\n",
    "DATA = Path(\"../data\")\n",
    "CLADE_FASTA = DATA / \"multifasta_for_clades\"\n",
    "ALIGNMENTS = DATA / \"alignments\""
   ]
  },
  {
   "cell_type": "code",
   "execution_count": 4,
   "id": "f543996b-9bb4-4b73-9485-6030278af6c0",
   "metadata": {
    "tags": []
   },
   "outputs": [
    {
     "data": {
      "text/plain": [
       "20"
      ]
     },
     "execution_count": 4,
     "metadata": {},
     "output_type": "execute_result"
    }
   ],
   "source": [
    "to_fasta = ALIGNMENTS / \"clade_1_merge_align.fasta\"\n",
    "seq_records = [seq_record for seq_record in SeqIO.parse(to_fasta, \"fasta\")]\n",
    "len(seq_records)"
   ]
  },
  {
   "cell_type": "code",
   "execution_count": 13,
   "id": "310c8688-6cf1-43a1-a41f-c34779445ec5",
   "metadata": {
    "tags": []
   },
   "outputs": [],
   "source": [
    "def alignment_to_np(to_align):\n",
    "    align_np = [np.frombuffer(seq_record.seq.encode('utf-8'), dtype=np.int8) for seq_record in SeqIO.parse(to_align, \"fasta\")]\n",
    "    align_np = np.stack(align_np)\n",
    "    return align_np"
   ]
  },
  {
   "cell_type": "code",
   "execution_count": 25,
   "id": "8170adb9-395a-4ac3-993c-d772ac1ea259",
   "metadata": {
    "tags": []
   },
   "outputs": [],
   "source": [
    "def delete_insertions(align_np):\n",
    "    mask = np.isin(align_np[0], np.frombuffer(\"-\".encode('utf-8'), dtype=np.int8))\n",
    "    return align_np[:, ~mask]"
   ]
  },
  {
   "cell_type": "code",
   "execution_count": 26,
   "id": "e66ba5c4-0bd8-4b24-a775-7d666197c58c",
   "metadata": {},
   "outputs": [],
   "source": [
    "def to_consensus(align_np):\n",
    "    consensus_np = mode(align_np[1:], axis=0, keepdims=False)\n",
    "    consensus = Seq(consensus_np.mode.tobytes().decode(\"utf-8\"))\n",
    "    return consensus"
   ]
  },
  {
   "cell_type": "code",
   "execution_count": 30,
   "id": "b7fba358-4b4c-461b-92fd-c76c6253bef0",
   "metadata": {
    "tags": []
   },
   "outputs": [
    {
     "name": "stdout",
     "output_type": "stream",
     "text": [
      "CPU times: user 3.27 s, sys: 58.2 ms, total: 3.32 s\n",
      "Wall time: 3.28 s\n"
     ]
    },
    {
     "data": {
      "text/plain": [
       "Seq('agcccagccctctcgcggccccctcgagagagaaaaaaaaaagcgaccccacct...ag-')"
      ]
     },
     "execution_count": 30,
     "metadata": {},
     "output_type": "execute_result"
    }
   ],
   "source": [
    "%%time\n",
    "align_crie_np = alignment_to_np(ALIGNMENTS / \"clade_4_merge_align.fasta\")\n",
    "align_crie_np_modif = delete_insertions(align_crie_np)\n",
    "consensus = to_consensus(align_crie_np_modif)\n",
    "consensus"
   ]
  },
  {
   "cell_type": "code",
   "execution_count": 17,
   "id": "3cf20a8f-8d51-4436-b12e-aab529f3c83d",
   "metadata": {
    "tags": []
   },
   "outputs": [
    {
     "data": {
      "text/plain": [
       "array([[103, 103,  99, ..., 103, 103, 103],\n",
       "       [103, 103,  99, ..., 103, 103,  45],\n",
       "       [ 97, 103,  99, ...,  97, 103,  99]], dtype=int8)"
      ]
     },
     "execution_count": 17,
     "metadata": {},
     "output_type": "execute_result"
    }
   ],
   "source": [
    "align_crie_np"
   ]
  },
  {
   "cell_type": "code",
   "execution_count": 8,
   "id": "faedb59e-b68f-4c61-8e53-6fd5b10f18ab",
   "metadata": {
    "tags": []
   },
   "outputs": [],
   "source": [
    "def alignment_to_consensus(to_align):\n",
    "    align_np = alignment_to_np(to_align)\n",
    "    consensus_np = mode(align_np[1:], axis=0, keepdims=False)\n",
    "    consensus = Seq(consensus_np.mode.tobytes().decode(\"utf-8\"))\n",
    "    return consensus"
   ]
  },
  {
   "cell_type": "code",
   "execution_count": 7,
   "id": "0354f79e-93d9-4a55-874f-7446c8379535",
   "metadata": {
    "tags": []
   },
   "outputs": [],
   "source": [
    "align_crie_np = alignment_to_np(ALIGNMENTS / \"clade_4_merge_align.fasta\")"
   ]
  },
  {
   "cell_type": "code",
   "execution_count": 279,
   "id": "856f1e47-79b6-4c20-a5b8-4524557599b6",
   "metadata": {
    "tags": []
   },
   "outputs": [
    {
     "name": "stdout",
     "output_type": "stream",
     "text": [
      "CPU times: user 30.6 ms, sys: 7.19 ms, total: 37.8 ms\n",
      "Wall time: 35.7 ms\n"
     ]
    }
   ],
   "source": [
    "%%time\n",
    "align_crie_np = []\n",
    "to_fasta = ALIGNMENTS / \"clade_1_merge_align.fasta\"\n",
    "for seq_record in SeqIO.parse(to_fasta, \"fasta\"):\n",
    "    align_crie_np.append(np.frombuffer(seq_record.seq.encode('utf-8'), dtype=np.int8))\n",
    "align_crie_np = np.stack(align_crie_np)"
   ]
  },
  {
   "cell_type": "code",
   "execution_count": 280,
   "id": "a7493f13-c05b-4f48-b7c6-8ca03da60e72",
   "metadata": {
    "tags": []
   },
   "outputs": [
    {
     "data": {
      "text/plain": [
       "array([[103, 103,  99, ..., 103, 103, 103],\n",
       "       [103, 103,  99, ..., 103, 103,  45],\n",
       "       [103, 103,  99, ...,  45,  45,  45],\n",
       "       ...,\n",
       "       [ 97, 103, 103, ..., 103, 103,  45],\n",
       "       [103, 103,  99, ..., 103, 103,  45],\n",
       "       [103, 103,  99, ..., 103, 103,  45]], dtype=int8)"
      ]
     },
     "execution_count": 280,
     "metadata": {},
     "output_type": "execute_result"
    }
   ],
   "source": [
    "align_crie_np"
   ]
  },
  {
   "cell_type": "code",
   "execution_count": 276,
   "id": "39f12f38-635f-4557-82fe-3097a3dd6920",
   "metadata": {
    "tags": []
   },
   "outputs": [
    {
     "name": "stdout",
     "output_type": "stream",
     "text": [
      "CPU times: user 28.9 ms, sys: 4.29 ms, total: 33.2 ms\n",
      "Wall time: 31.3 ms\n"
     ]
    },
    {
     "data": {
      "text/plain": [
       "[Seq('ggcccagccctctcgcggccccctcgagagagaaaaaaaaaagcgaccccacct...ggg'),\n",
       " Seq('ggcccagccctctcgcggccccctcgagagagaaaaaaaaaagcgaccccacct...gg-'),\n",
       " Seq('ggcccagccctctcgcggccccctcgagagagaaaaaaaaaagcgaccccacct...---'),\n",
       " Seq('aggccagccctctcgcggccccctcgagagagaaaaaaaaaagcgaccccacct...gg-'),\n",
       " Seq('ggcccagccctctcgcggccccctcgagagagaaaaaaaaaagcgaccccacct...gg-'),\n",
       " Seq('ggcccagccctctcgcggccccctcgagagag-aaaaaaaaagcgaccccacct...gg-'),\n",
       " Seq('aggccagccctctcgcggccccctcgagagagaaaaaaaaaagcgaccccacct...gg-'),\n",
       " Seq('aggccagccctctcgcggccccctcgagagagaaaaaaaaaagcgaccccacct...gg-'),\n",
       " Seq('aggccagccctctcgcggccccctcgagagagaaaaaaaaaagcgaccccacct...gg-'),\n",
       " Seq('ggcccagccctctcgcggccccctcgagagagaaaaaaaaaagcgaccccacct...gg-'),\n",
       " Seq('ggcccagccctctcgcggccccctcgagagagaaaaaaaaaagcgaccccacct...gg-'),\n",
       " Seq('aggccagccctctcgcggccccctcgagagagaaaaaaaaaagcgaccccacct...gg-'),\n",
       " Seq('-ggccagccctctcgcggccccctcgagagagaaaaaaaaaagcgaccccacct...gg-'),\n",
       " Seq('ggcccagccctctcgcggccccctcgagagagaaaaaaaaaagcgaccccacct...gg-'),\n",
       " Seq('aggccagccctctcgcggccccctcgagagagaaaaaaaaaagcgaccccacct...gg-'),\n",
       " Seq('aggccagccctctcgcggccccctcgagagagaaaaaaaaaagcgaccccacct...gg-'),\n",
       " Seq('ggcccagccctctcgcggccccctcgagagagaaaaaaaaaagcgaccccacct...---'),\n",
       " Seq('aggccagccctctcgcggccccctcgagagagaaaaaaaaaagcgaccccacct...gg-'),\n",
       " Seq('ggcccagccctctcgcggccccctcgagagagaaaaaaaaaagcgaccccacct...gg-'),\n",
       " Seq('ggcccagccctctcgcggccccctcgagagagaaaaaaaaaagcgaccccacct...gg-')]"
      ]
     },
     "execution_count": 276,
     "metadata": {},
     "output_type": "execute_result"
    }
   ],
   "source": [
    "%%time\n",
    "align_crie_np = []\n",
    "to_fasta = ALIGNMENTS / \"clade_1_merge_align.fasta\"\n",
    "for seq_record in SeqIO.parse(to_fasta, \"fasta\"):\n",
    "    align_crie_np.append(seq_record.seq)\n",
    "align_crie_np"
   ]
  },
  {
   "cell_type": "code",
   "execution_count": null,
   "id": "572e9b84-be98-46a7-9d9c-eebadf596f49",
   "metadata": {},
   "outputs": [],
   "source": []
  },
  {
   "cell_type": "code",
   "execution_count": 251,
   "id": "a93a64fd-7a67-43ac-92af-b63249b1926b",
   "metadata": {
    "tags": []
   },
   "outputs": [
    {
     "data": {
      "text/plain": [
       "(20, 127611)"
      ]
     },
     "execution_count": 251,
     "metadata": {},
     "output_type": "execute_result"
    }
   ],
   "source": [
    "align_crie_np.shape"
   ]
  },
  {
   "cell_type": "code",
   "execution_count": 247,
   "id": "0fd51469-dcf4-48c3-94f8-cc838b474ec8",
   "metadata": {
    "tags": []
   },
   "outputs": [
    {
     "data": {
      "text/plain": [
       "121"
      ]
     },
     "execution_count": 247,
     "metadata": {},
     "output_type": "execute_result"
    }
   ],
   "source": [
    "align_crie_np.max()"
   ]
  },
  {
   "cell_type": "code",
   "execution_count": 258,
   "id": "40625541-ba54-4fc4-9e9e-f583ebb69853",
   "metadata": {
    "tags": []
   },
   "outputs": [],
   "source": [
    "consensus_np = mode(align_crie_np[1:], axis=0, keepdims=False)"
   ]
  },
  {
   "cell_type": "code",
   "execution_count": 259,
   "id": "d166afc5-b955-4f3e-b30d-b4e365e0affc",
   "metadata": {
    "tags": []
   },
   "outputs": [
    {
     "data": {
      "text/plain": [
       "array([103, 103,  99, ..., 103, 103,  45], dtype=int8)"
      ]
     },
     "execution_count": 259,
     "metadata": {},
     "output_type": "execute_result"
    }
   ],
   "source": [
    "consensus_np.mode"
   ]
  },
  {
   "cell_type": "code",
   "execution_count": 270,
   "id": "b46fbafd-fdb8-4754-943d-a1cfcf2ea865",
   "metadata": {},
   "outputs": [],
   "source": [
    "consensus = Seq(consensus_np.mode.tobytes().decode(\"utf-8\"))"
   ]
  },
  {
   "cell_type": "code",
   "execution_count": 271,
   "id": "c2137018-03be-4f73-b0f3-f17de67ff320",
   "metadata": {
    "tags": []
   },
   "outputs": [
    {
     "data": {
      "text/plain": [
       "Seq('ggcccagccctctcgcggccccctcgagagagaaaaaaaaaagcgaccccacct...gg-')"
      ]
     },
     "execution_count": 271,
     "metadata": {},
     "output_type": "execute_result"
    }
   ],
   "source": [
    "consensus"
   ]
  },
  {
   "cell_type": "code",
   "execution_count": 8,
   "id": "acf315a8-f68d-43c0-a3a0-2139ccd9f242",
   "metadata": {
    "tags": []
   },
   "outputs": [
    {
     "data": {
      "text/plain": [
       "array([False, False, False, ..., False, False, False])"
      ]
     },
     "execution_count": 8,
     "metadata": {},
     "output_type": "execute_result"
    }
   ],
   "source": [
    "mask = np.isin(align_crie_np[0], np.frombuffer(\"-\".encode('utf-8'), dtype=np.int8))\n",
    "mask"
   ]
  },
  {
   "cell_type": "code",
   "execution_count": 24,
   "id": "495dbb45-3b1d-440b-853f-ce2e8f8eafc8",
   "metadata": {
    "tags": []
   },
   "outputs": [
    {
     "data": {
      "text/plain": [
       "array([[103, 103,  99, ..., 103, 103, 103],\n",
       "       [103, 103,  99, ..., 103, 103,  45],\n",
       "       [ 97, 103,  99, ...,  97, 103,  99]], dtype=int8)"
      ]
     },
     "execution_count": 24,
     "metadata": {},
     "output_type": "execute_result"
    }
   ],
   "source": [
    "align_crie_np[:, ~mask]"
   ]
  },
  {
   "cell_type": "code",
   "execution_count": 23,
   "id": "01cc8008-0b6b-41fa-8542-b2dc4dee3787",
   "metadata": {
    "tags": []
   },
   "outputs": [
    {
     "data": {
      "text/plain": [
       "array([45], dtype=int8)"
      ]
     },
     "execution_count": 23,
     "metadata": {},
     "output_type": "execute_result"
    }
   ],
   "source": [
    "np.frombuffer(\"-\".encode('utf-8'), dtype=np.int8)"
   ]
  },
  {
   "cell_type": "code",
   "execution_count": null,
   "id": "7c92ae49-e60f-4561-b920-e5e591319b3b",
   "metadata": {},
   "outputs": [],
   "source": []
  }
 ],
 "metadata": {
  "kernelspec": {
   "display_name": "Python 3 (ipykernel)",
   "language": "python",
   "name": "python3"
  },
  "language_info": {
   "codemirror_mode": {
    "name": "ipython",
    "version": 3
   },
   "file_extension": ".py",
   "mimetype": "text/x-python",
   "name": "python",
   "nbconvert_exporter": "python",
   "pygments_lexer": "ipython3",
   "version": "3.10.11"
  }
 },
 "nbformat": 4,
 "nbformat_minor": 5
}
