{
 "cells": [
  {
   "cell_type": "code",
   "execution_count": 1,
   "id": "07790112-4553-4739-a15e-792506a4cf55",
   "metadata": {
    "tags": []
   },
   "outputs": [],
   "source": [
    "from pathlib import Path\n",
    "import pandas as pd\n",
    "from Bio.Seq import Seq\n",
    "from Bio import SeqIO\n",
    "from Bio.SeqRecord import SeqRecord"
   ]
  },
  {
   "cell_type": "code",
   "execution_count": 6,
   "id": "ce61d696-f68b-4791-aacb-cf99fb2dd437",
   "metadata": {
    "tags": []
   },
   "outputs": [],
   "source": [
    "ROOT = Path().cwd()\n",
    "PREPROCESSING = Path(\"../preprocessing\")\n",
    "PRIMERS = Path(\"../primers/\")"
   ]
  },
  {
   "cell_type": "code",
   "execution_count": 5,
   "id": "dc91f8e1-06f6-4e96-bddf-e98285310999",
   "metadata": {
    "tags": []
   },
   "outputs": [],
   "source": [
    "for name in PRIMERS, :\n",
    "    name.mkdir(parents=True, exist_ok=True)"
   ]
  },
  {
   "cell_type": "code",
   "execution_count": 93,
   "id": "a005320a-eedf-4b32-b3b8-7697c1068230",
   "metadata": {
    "tags": []
   },
   "outputs": [
    {
     "name": "stdout",
     "output_type": "stream",
     "text": [
      "../preprocessing/selection_of_unique_region/window_930/0_insertion_problems/l_score_1-r_score_1/total_dist-3552/region-13891:14821.fasta\n"
     ]
    }
   ],
   "source": [
    "to_region = [i for i in PREPROCESSING.glob(\"selection_of_unique_region/**/region-13891:14821.fasta\")][0]\n",
    "print(to_region)\n",
    "reg_1 = [seq_record for seq_record in SeqIO.parse(to_region, \"fasta\")][0]"
   ]
  },
  {
   "cell_type": "code",
   "execution_count": 94,
   "id": "6ad5c88f-1e64-4760-8c02-de7df0ae782f",
   "metadata": {
    "tags": []
   },
   "outputs": [
    {
     "name": "stdout",
     "output_type": "stream",
     "text": [
      "../preprocessing/selection_of_unique_region/window_950/0_insertion_problems/l_score_1-r_score_1/total_dist-2098/region-119603:120553.fasta\n"
     ]
    }
   ],
   "source": [
    "to_region = [i for i in PREPROCESSING.glob(\"selection_of_unique_region/**/region-119603:120553.fasta\")][0]\n",
    "print(to_region)\n",
    "reg_2 = [seq_record for seq_record in SeqIO.parse(to_region, \"fasta\")][0]"
   ]
  },
  {
   "cell_type": "code",
   "execution_count": 95,
   "id": "d2d0e920-8e94-425e-889c-de093936797e",
   "metadata": {
    "tags": []
   },
   "outputs": [
    {
     "name": "stdout",
     "output_type": "stream",
     "text": [
      "../preprocessing/selection_of_unique_region/window_970/0_insertion_problems/l_score_1-r_score_1/total_dist-3150/region-13452:14422.fasta\n"
     ]
    }
   ],
   "source": [
    "to_region = [i for i in PREPROCESSING.glob(\"selection_of_unique_region/**/region-13452:14422.fasta\")][0]\n",
    "print(to_region)\n",
    "reg_3 = [seq_record for seq_record in SeqIO.parse(to_region, \"fasta\")][0]"
   ]
  },
  {
   "cell_type": "code",
   "execution_count": 96,
   "id": "c654172d-e661-4180-98e4-ecea54719512",
   "metadata": {
    "tags": []
   },
   "outputs": [
    {
     "name": "stdout",
     "output_type": "stream",
     "text": [
      "../preprocessing/selection_of_unique_region/window_990/0_insertion_problems/l_score_1-r_score_1/total_dist-1600/region-20401:21391.fasta\n"
     ]
    }
   ],
   "source": [
    "to_region = [i for i in PREPROCESSING.glob(\"selection_of_unique_region/**/region-20401:21391.fasta\")][0]\n",
    "print(to_region)\n",
    "reg_4 = [seq_record for seq_record in SeqIO.parse(to_region, \"fasta\")][0]"
   ]
  },
  {
   "cell_type": "code",
   "execution_count": 103,
   "id": "4d6fd308-190f-4043-afd6-6e47ac2be3e0",
   "metadata": {
    "tags": []
   },
   "outputs": [
    {
     "name": "stdout",
     "output_type": "stream",
     "text": [
      "../preprocessing/selection_of_unique_region/window_1030/0_insertion_problems/l_score_1-r_score_1/total_dist-1600/region-20367:21397.fasta\n"
     ]
    }
   ],
   "source": [
    "to_region = [i for i in PREPROCESSING.glob(\"selection_of_unique_region/**/region-20367:21397.fasta\")][0]\n",
    "print(to_region)\n",
    "reg_5 = [seq_record for seq_record in SeqIO.parse(to_region, \"fasta\")][0]"
   ]
  },
  {
   "cell_type": "code",
   "execution_count": 104,
   "id": "8f4193d2-2669-4964-ac49-75e7d4561e89",
   "metadata": {
    "tags": []
   },
   "outputs": [
    {
     "data": {
      "text/plain": [
       "(SeqRecord(seq=Seq('TAAATTAACGGAGAGGGAAGCTAATGAGGAAATCAACATCAATACGGACGCGAT...AGG'), id='region', name='region', description='region 13891:14821 in NC_001348.1 <unknown description>', dbxrefs=[]),\n",
       " SeqRecord(seq=Seq('GCCCACACCCCATAAAACCGCGACATCGCGGGAACACGCGCGAACAAGAAACTC...AAC'), id='region', name='region', description='region 119603:120553 in NC_001348.1 <unknown description>', dbxrefs=[]),\n",
       " SeqRecord(seq=Seq('ACAATGCGCCGTATATGGTATGTCTGTCATGTGCTCTAAAGTCCCATATATAAA...GTT'), id='region', name='region', description='region 13452:14422 in NC_001348.1 <unknown description>', dbxrefs=[]),\n",
       " SeqRecord(seq=Seq('CATTGCCCAGTTGACGGTGCGGATCTATAAGGTGACGCGTAAACCAAACTTCAA...ACG'), id='region', name='region', description='region 20401:21391 in NC_001348.1 <unknown description>', dbxrefs=[]),\n",
       " SeqRecord(seq=Seq('AACATAACCGGTAAATCTGGCATGCGTATTAACGCATTGCCCAGTTGACGGTGC...AAC'), id='region', name='region', description='region 20367:21397 in NC_001348.1 <unknown description>', dbxrefs=[]))"
      ]
     },
     "execution_count": 104,
     "metadata": {},
     "output_type": "execute_result"
    }
   ],
   "source": [
    "#amplicons with primers\n",
    "regions = reg_1, reg_2, reg_3, reg_4, reg_5\n",
    "regions"
   ]
  },
  {
   "cell_type": "code",
   "execution_count": 105,
   "id": "78a60d54-39ee-4bb0-943e-bf019c0611dc",
   "metadata": {
    "tags": []
   },
   "outputs": [
    {
     "data": {
      "text/plain": [
       "[True, True, True, True, True]"
      ]
     },
     "execution_count": 105,
     "metadata": {},
     "output_type": "execute_result"
    }
   ],
   "source": [
    "[len(seq.seq) == i for i, seq in zip([930, 950, 970, 990, 1030] ,regions)]"
   ]
  },
  {
   "cell_type": "code",
   "execution_count": 106,
   "id": "0b7aea45-514c-48b1-83b8-61aa9641454f",
   "metadata": {
    "tags": []
   },
   "outputs": [
    {
     "data": {
      "text/html": [
       "<div>\n",
       "<style scoped>\n",
       "    .dataframe tbody tr th:only-of-type {\n",
       "        vertical-align: middle;\n",
       "    }\n",
       "\n",
       "    .dataframe tbody tr th {\n",
       "        vertical-align: top;\n",
       "    }\n",
       "\n",
       "    .dataframe thead th {\n",
       "        text-align: right;\n",
       "    }\n",
       "</style>\n",
       "<table border=\"1\" class=\"dataframe\">\n",
       "  <thead>\n",
       "    <tr style=\"text-align: right;\">\n",
       "      <th></th>\n",
       "      <th>primer_name</th>\n",
       "      <th>coordinates_in_ref_NC_001348.1</th>\n",
       "      <th>primer_length</th>\n",
       "      <th>aplicon_lenght_with_primers</th>\n",
       "      <th>sequance</th>\n",
       "    </tr>\n",
       "  </thead>\n",
       "  <tbody>\n",
       "  </tbody>\n",
       "</table>\n",
       "</div>"
      ],
      "text/plain": [
       "Empty DataFrame\n",
       "Columns: [primer_name, coordinates_in_ref_NC_001348.1, primer_length, aplicon_lenght_with_primers, sequance]\n",
       "Index: []"
      ]
     },
     "execution_count": 106,
     "metadata": {},
     "output_type": "execute_result"
    }
   ],
   "source": [
    "primers_df = pd.DataFrame(columns=[\"primer_name\", \"coordinates_in_ref_NC_001348.1\", \"primer_length\", \"aplicon_lenght_with_primers\", \"sequance\"])\n",
    "primers_df"
   ]
  },
  {
   "cell_type": "code",
   "execution_count": 107,
   "id": "f200fe70-9341-4778-afd3-be0729b92b37",
   "metadata": {
    "tags": []
   },
   "outputs": [
    {
     "data": {
      "text/plain": [
       "(SeqRecord(seq=Seq('TAAATTAACGGAGAGGGAAGCTAATGAGGAAATCAACATCAATACGGACGCGAT...AGG'), id='region', name='region', description='region 13891:14821 in NC_001348.1 <unknown description>', dbxrefs=[]),\n",
       " SeqRecord(seq=Seq('GCCCACACCCCATAAAACCGCGACATCGCGGGAACACGCGCGAACAAGAAACTC...AAC'), id='region', name='region', description='region 119603:120553 in NC_001348.1 <unknown description>', dbxrefs=[]),\n",
       " SeqRecord(seq=Seq('ACAATGCGCCGTATATGGTATGTCTGTCATGTGCTCTAAAGTCCCATATATAAA...GTT'), id='region', name='region', description='region 13452:14422 in NC_001348.1 <unknown description>', dbxrefs=[]),\n",
       " SeqRecord(seq=Seq('CATTGCCCAGTTGACGGTGCGGATCTATAAGGTGACGCGTAAACCAAACTTCAA...ACG'), id='region', name='region', description='region 20401:21391 in NC_001348.1 <unknown description>', dbxrefs=[]),\n",
       " SeqRecord(seq=Seq('AACATAACCGGTAAATCTGGCATGCGTATTAACGCATTGCCCAGTTGACGGTGC...AAC'), id='region', name='region', description='region 20367:21397 in NC_001348.1 <unknown description>', dbxrefs=[]))"
      ]
     },
     "execution_count": 107,
     "metadata": {},
     "output_type": "execute_result"
    }
   ],
   "source": [
    "regions"
   ]
  },
  {
   "cell_type": "code",
   "execution_count": 108,
   "id": "6acba569-69bb-4fee-98b5-9938e36255dc",
   "metadata": {
    "tags": []
   },
   "outputs": [
    {
     "name": "stdout",
     "output_type": "stream",
     "text": [
      "(13891, 13910) (14802, 14821)\n",
      "(119603, 119622) (120534, 120553)\n",
      "(13452, 13471) (14403, 14422)\n",
      "(20401, 20420) (21372, 21391)\n",
      "(20367, 20386) (21378, 21397)\n"
     ]
    }
   ],
   "source": [
    "j = 0\n",
    "for i, seq in enumerate(regions):\n",
    "    #area of amplicon with primers\n",
    "    coordinates = seq.description.split(\" \")[1]\n",
    "    left_coord, right_coord = int(coordinates.split(\":\")[0]), int(coordinates.split(\":\")[1])\n",
    "    #primers\n",
    "    ##coordinares\n",
    "    left_primer = seq.seq[:20]\n",
    "    left_pr_coord = f\"{(left_coord, left_coord + len(left_primer) - 1)}\"\n",
    "    right_primer = seq.seq[-20:].reverse_complement()\n",
    "    right_pr_coord = f\"{(right_coord - len(right_primer) + 1, right_coord)}\"\n",
    "    print(left_pr_coord, right_pr_coord)\n",
    "    ##names\n",
    "    left_name = f\"primer_{i}_F\"\n",
    "    right_name = f\"primer_{i}_R\"\n",
    "    \n",
    "    result = {\"L\":{\"primer_name\":left_name, \"coordinates_in_ref_NC_001348.1\":left_pr_coord, \"primer_length\":len(left_primer), \"aplicon_lenght_with_primers\":len(regions[i].seq), \"sequance\":left_primer},\n",
    "              \"R\":{\"primer_name\":right_name, \"coordinates_in_ref_NC_001348.1\":right_pr_coord, \"primer_length\":len(right_primer), \"aplicon_lenght_with_primers\":len(regions[i].seq), \"sequance\":right_primer}}\n",
    "    for orientation in \"L\", \"R\":\n",
    "        primers_df.loc[j, \"primer_name\"] = result[orientation][\"primer_name\"]\n",
    "        primers_df.loc[j, \"coordinates_in_ref_NC_001348.1\"] = result[orientation][\"coordinates_in_ref_NC_001348.1\"]\n",
    "        primers_df.loc[j, \"primer_length\"] = result[orientation][\"primer_length\"]\n",
    "        primers_df.loc[j, \"aplicon_lenght_with_primers\"] = result[orientation][\"aplicon_lenght_with_primers\"]\n",
    "        primers_df.loc[j, \"sequance\"] = str(result[orientation][\"sequance\"])\n",
    "        j += 1"
   ]
  },
  {
   "cell_type": "code",
   "execution_count": 112,
   "id": "f7328ae8-5569-4f99-9508-7ecadeb61c40",
   "metadata": {
    "tags": []
   },
   "outputs": [
    {
     "ename": "TypeError",
     "evalue": "NDFrame.to_csv() got an unexpected keyword argument 'drop_index'",
     "output_type": "error",
     "traceback": [
      "\u001b[0;31m---------------------------------------------------------------------------\u001b[0m",
      "\u001b[0;31mTypeError\u001b[0m                                 Traceback (most recent call last)",
      "Cell \u001b[0;32mIn[112], line 1\u001b[0m\n\u001b[0;32m----> 1\u001b[0m \u001b[43mprimers_df\u001b[49m\u001b[38;5;241;43m.\u001b[39;49m\u001b[43mto_csv\u001b[49m\u001b[43m(\u001b[49m\u001b[43mPRIMERS\u001b[49m\u001b[43m \u001b[49m\u001b[38;5;241;43m/\u001b[39;49m\u001b[43m \u001b[49m\u001b[38;5;124;43m\"\u001b[39;49m\u001b[38;5;124;43mvzv_nanopore_primers.tsv\u001b[39;49m\u001b[38;5;124;43m\"\u001b[39;49m\u001b[43m,\u001b[49m\u001b[43m \u001b[49m\u001b[43mdrop_index\u001b[49m\u001b[38;5;241;43m=\u001b[39;49m\u001b[38;5;28;43;01mTrue\u001b[39;49;00m\u001b[43m,\u001b[49m\u001b[43m \u001b[49m\u001b[43msep\u001b[49m\u001b[38;5;241;43m=\u001b[39;49m\u001b[38;5;124;43m\"\u001b[39;49m\u001b[38;5;130;43;01m\\t\u001b[39;49;00m\u001b[38;5;124;43m\"\u001b[39;49m\u001b[43m)\u001b[49m\n",
      "File \u001b[0;32m~/mambaforge/envs/reat/lib/python3.10/site-packages/pandas/util/_decorators.py:211\u001b[0m, in \u001b[0;36mdeprecate_kwarg.<locals>._deprecate_kwarg.<locals>.wrapper\u001b[0;34m(*args, **kwargs)\u001b[0m\n\u001b[1;32m    209\u001b[0m     \u001b[38;5;28;01melse\u001b[39;00m:\n\u001b[1;32m    210\u001b[0m         kwargs[new_arg_name] \u001b[38;5;241m=\u001b[39m new_arg_value\n\u001b[0;32m--> 211\u001b[0m \u001b[38;5;28;01mreturn\u001b[39;00m \u001b[43mfunc\u001b[49m\u001b[43m(\u001b[49m\u001b[38;5;241;43m*\u001b[39;49m\u001b[43margs\u001b[49m\u001b[43m,\u001b[49m\u001b[43m \u001b[49m\u001b[38;5;241;43m*\u001b[39;49m\u001b[38;5;241;43m*\u001b[39;49m\u001b[43mkwargs\u001b[49m\u001b[43m)\u001b[49m\n",
      "\u001b[0;31mTypeError\u001b[0m: NDFrame.to_csv() got an unexpected keyword argument 'drop_index'"
     ]
    }
   ],
   "source": [
    "primers_df.to_csv(PRIMERS / \"vzv_nanopore_primers.tsv\", drop_index=True, sep=\"\\t\")"
   ]
  },
  {
   "cell_type": "code",
   "execution_count": null,
   "id": "d6a336f4-8ebe-4d3e-ac82-1bc4a604aeaf",
   "metadata": {},
   "outputs": [],
   "source": []
  }
 ],
 "metadata": {
  "kernelspec": {
   "display_name": "Python 3 (ipykernel)",
   "language": "python",
   "name": "python3"
  },
  "language_info": {
   "codemirror_mode": {
    "name": "ipython",
    "version": 3
   },
   "file_extension": ".py",
   "mimetype": "text/x-python",
   "name": "python",
   "nbconvert_exporter": "python",
   "pygments_lexer": "ipython3",
   "version": "3.10.11"
  }
 },
 "nbformat": 4,
 "nbformat_minor": 5
}
