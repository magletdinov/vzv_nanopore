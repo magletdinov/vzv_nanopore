{
 "cells": [
  {
   "cell_type": "code",
   "execution_count": 2,
   "id": "0633caf6-a65c-4bed-87b7-ae473a184edd",
   "metadata": {
    "tags": []
   },
   "outputs": [],
   "source": [
    "from pathlib import Path\n",
    "import pandas as pd\n",
    "import numpy as np\n",
    "from scipy.stats import mode\n",
    "from Bio.Seq import Seq\n",
    "from Bio import SeqIO\n",
    "from Bio.SeqRecord import SeqRecord"
   ]
  },
  {
   "cell_type": "code",
   "execution_count": 3,
   "id": "e5db2891-0d65-489f-8aee-18a89f3e6c97",
   "metadata": {
    "tags": []
   },
   "outputs": [],
   "source": [
    "ROOT = Path().cwd()\n",
    "DATA = Path(\"../data\")\n",
    "CLADE_FASTA = DATA / \"multifasta_for_clades\"\n",
    "ALIGNMENTS = DATA / \"alignments\""
   ]
  },
  {
   "cell_type": "code",
   "execution_count": 10,
   "id": "f543996b-9bb4-4b73-9485-6030278af6c0",
   "metadata": {
    "tags": []
   },
   "outputs": [
    {
     "data": {
      "text/plain": [
       "20"
      ]
     },
     "execution_count": 10,
     "metadata": {},
     "output_type": "execute_result"
    }
   ],
   "source": [
    "to_fasta = ALIGNMENTS / \"clade_1_merge_align.fasta\"\n",
    "seq_records = [seq_record for seq_record in SeqIO.parse(to_fasta, \"fasta\")]\n",
    "len(seq_records)"
   ]
  },
  {
   "cell_type": "code",
   "execution_count": 279,
   "id": "856f1e47-79b6-4c20-a5b8-4524557599b6",
   "metadata": {
    "tags": []
   },
   "outputs": [
    {
     "name": "stdout",
     "output_type": "stream",
     "text": [
      "CPU times: user 30.6 ms, sys: 7.19 ms, total: 37.8 ms\n",
      "Wall time: 35.7 ms\n"
     ]
    }
   ],
   "source": [
    "%%time\n",
    "align_crie_np = []\n",
    "to_fasta = ALIGNMENTS / \"clade_1_merge_align.fasta\"\n",
    "for seq_record in SeqIO.parse(to_fasta, \"fasta\"):\n",
    "    align_crie_np.append(np.frombuffer(seq_record.seq.encode('utf-8'), dtype=np.int8))\n",
    "align_crie_np = np.stack(align_crie_np)"
   ]
  },
  {
   "cell_type": "code",
   "execution_count": 280,
   "id": "a7493f13-c05b-4f48-b7c6-8ca03da60e72",
   "metadata": {
    "tags": []
   },
   "outputs": [
    {
     "data": {
      "text/plain": [
       "array([[103, 103,  99, ..., 103, 103, 103],\n",
       "       [103, 103,  99, ..., 103, 103,  45],\n",
       "       [103, 103,  99, ...,  45,  45,  45],\n",
       "       ...,\n",
       "       [ 97, 103, 103, ..., 103, 103,  45],\n",
       "       [103, 103,  99, ..., 103, 103,  45],\n",
       "       [103, 103,  99, ..., 103, 103,  45]], dtype=int8)"
      ]
     },
     "execution_count": 280,
     "metadata": {},
     "output_type": "execute_result"
    }
   ],
   "source": [
    "align_crie_np"
   ]
  },
  {
   "cell_type": "code",
   "execution_count": 251,
   "id": "a93a64fd-7a67-43ac-92af-b63249b1926b",
   "metadata": {
    "tags": []
   },
   "outputs": [
    {
     "data": {
      "text/plain": [
       "(20, 127611)"
      ]
     },
     "execution_count": 251,
     "metadata": {},
     "output_type": "execute_result"
    }
   ],
   "source": [
    "align_crie_np.shape"
   ]
  },
  {
   "cell_type": "code",
   "execution_count": 247,
   "id": "0fd51469-dcf4-48c3-94f8-cc838b474ec8",
   "metadata": {
    "tags": []
   },
   "outputs": [
    {
     "data": {
      "text/plain": [
       "121"
      ]
     },
     "execution_count": 247,
     "metadata": {},
     "output_type": "execute_result"
    }
   ],
   "source": [
    "align_crie_np.max()"
   ]
  },
  {
   "cell_type": "code",
   "execution_count": 258,
   "id": "40625541-ba54-4fc4-9e9e-f583ebb69853",
   "metadata": {
    "tags": []
   },
   "outputs": [],
   "source": [
    "consensus_np = mode(align_crie_np[1:], axis=0, keepdims=False)"
   ]
  },
  {
   "cell_type": "code",
   "execution_count": 259,
   "id": "d166afc5-b955-4f3e-b30d-b4e365e0affc",
   "metadata": {
    "tags": []
   },
   "outputs": [
    {
     "data": {
      "text/plain": [
       "array([103, 103,  99, ..., 103, 103,  45], dtype=int8)"
      ]
     },
     "execution_count": 259,
     "metadata": {},
     "output_type": "execute_result"
    }
   ],
   "source": [
    "consensus_np.mode"
   ]
  },
  {
   "cell_type": "code",
   "execution_count": null,
   "id": "9cac67c7-d50f-4c58-b52e-afc8c11930c6",
   "metadata": {
    "tags": []
   },
   "outputs": [
    {
     "data": {
      "text/plain": [
       "(127611,)"
      ]
     },
     "execution_count": 234,
     "metadata": {},
     "output_type": "execute_result"
    }
   ],
   "source": [
    "a.mode.shape"
   ]
  },
  {
   "cell_type": "code",
   "execution_count": null,
   "id": "d18d9dd9-d5f8-4f51-bc22-215296d106ff",
   "metadata": {
    "tags": []
   },
   "outputs": [
    {
     "data": {
      "text/plain": [
       "array([-50, -50, -58, ..., -50, -50,  90], dtype=int8)"
      ]
     },
     "execution_count": 246,
     "metadata": {},
     "output_type": "execute_result"
    }
   ],
   "source": [
    "a.mode * 2"
   ]
  },
  {
   "cell_type": "code",
   "execution_count": null,
   "id": "d46af191-d033-42b8-b745-e22c754e86e5",
   "metadata": {
    "tags": []
   },
   "outputs": [],
   "source": [
    "b = mode(align_crie_np, axis=0, keepdims=True)"
   ]
  },
  {
   "cell_type": "code",
   "execution_count": null,
   "id": "ed5c2534-a844-4488-ad30-3b52a0013210",
   "metadata": {
    "tags": []
   },
   "outputs": [
    {
     "data": {
      "text/plain": [
       "(1, 127611)"
      ]
     },
     "execution_count": 237,
     "metadata": {},
     "output_type": "execute_result"
    }
   ],
   "source": [
    "b.mode.shape"
   ]
  },
  {
   "cell_type": "code",
   "execution_count": null,
   "id": "1c09ee10-6b1d-4f30-8c03-bb00d19b493b",
   "metadata": {
    "tags": []
   },
   "outputs": [
    {
     "data": {
      "text/plain": [
       "array([[-50, -50, -58, ..., -50, -50,  90]], dtype=int8)"
      ]
     },
     "execution_count": 244,
     "metadata": {},
     "output_type": "execute_result"
    }
   ],
   "source": [
    "b.mode * 2"
   ]
  },
  {
   "cell_type": "code",
   "execution_count": null,
   "id": "2fa63369-5318-4c40-97c2-1f83de097b31",
   "metadata": {
    "tags": []
   },
   "outputs": [
    {
     "data": {
      "text/plain": [
       "array([1, 2, 3, 4])"
      ]
     },
     "execution_count": 240,
     "metadata": {},
     "output_type": "execute_result"
    }
   ],
   "source": [
    "np.array([1,2,3,4])"
   ]
  },
  {
   "cell_type": "code",
   "execution_count": 270,
   "id": "b46fbafd-fdb8-4754-943d-a1cfcf2ea865",
   "metadata": {},
   "outputs": [],
   "source": [
    "consensus = Seq(consensus_np.mode.tobytes().decode(\"utf-8\"))"
   ]
  },
  {
   "cell_type": "code",
   "execution_count": null,
   "id": "331ca094-d009-4382-a373-defd211db069",
   "metadata": {
    "tags": []
   },
   "outputs": [
    {
     "data": {
      "text/plain": [
       "array([False, False, False, ..., False, False, False])"
      ]
     },
     "execution_count": 212,
     "metadata": {},
     "output_type": "execute_result"
    }
   ],
   "source": [
    "mask = np.isin(align_crie_np[0], np.frombuffer(\"-\".encode('utf-8'), dtype=np.int8))\n",
    "mask"
   ]
  },
  {
   "cell_type": "code",
   "execution_count": null,
   "id": "3d6c5d90-1e01-44e5-b0e3-e6f4a83e60ef",
   "metadata": {
    "tags": []
   },
   "outputs": [
    {
     "data": {
      "text/plain": [
       "2790"
      ]
     },
     "execution_count": 213,
     "metadata": {},
     "output_type": "execute_result"
    }
   ],
   "source": [
    "mask.sum()"
   ]
  },
  {
   "cell_type": "code",
   "execution_count": null,
   "id": "348bbe60-0dce-4ebf-befd-6bb5abd51827",
   "metadata": {
    "tags": []
   },
   "outputs": [
    {
     "data": {
      "text/plain": [
       "(20, 2790)"
      ]
     },
     "execution_count": 214,
     "metadata": {},
     "output_type": "execute_result"
    }
   ],
   "source": [
    "align_crie_np[:, mask].shape"
   ]
  },
  {
   "cell_type": "code",
   "execution_count": null,
   "id": "9ad4c5d0-5a3d-4daa-b127-75c7e3ca407f",
   "metadata": {},
   "outputs": [],
   "source": []
  }
 ],
 "metadata": {
  "kernelspec": {
   "display_name": "Python 3 (ipykernel)",
   "language": "python",
   "name": "python3"
  },
  "language_info": {
   "codemirror_mode": {
    "name": "ipython",
    "version": 3
   },
   "file_extension": ".py",
   "mimetype": "text/x-python",
   "name": "python",
   "nbconvert_exporter": "python",
   "pygments_lexer": "ipython3",
   "version": "3.10.11"
  }
 },
 "nbformat": 4,
 "nbformat_minor": 5
}
